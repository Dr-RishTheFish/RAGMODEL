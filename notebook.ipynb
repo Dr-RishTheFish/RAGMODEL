{
 "cells": [
  {
   "cell_type": "code",
   "execution_count": 22,
   "metadata": {},
   "outputs": [],
   "source": [
    "#Author: Rishab Ohri\n",
    "import os \n",
    "from dotenv import load_dotenv\n",
    "load_dotenv()\n",
    "\n",
    "OPENAI_API_KEY = os.getenv(\"OPEN_API_KEY\")\n",
    "MODEL = \"gpt-3.5-turbo\"\n",
    "MODEL = \"llama3\""
   ]
  },
  {
   "cell_type": "code",
   "execution_count": 23,
   "metadata": {},
   "outputs": [],
   "source": [
    "from langchain_openai.chat_models import ChatOpenAI\n",
    "from langchain_community.llms import Ollama \n",
    "from langchain_community.embeddings import OllamaEmbeddings\n",
    "\n",
    "if MODEL.startswith(\"gpt\"):\n",
    "    model = ChatOpenAI(api_key=OPENAI_API_KEY, model=MODEL)\n",
    "else:\n",
    "    model = Ollama(model=MODEL)\n",
    "    embeddings = OllamaEmbeddings(model=\"llama3\")\n"
   ]
  },
  {
   "cell_type": "code",
   "execution_count": 24,
   "metadata": {},
   "outputs": [],
   "source": [
    "from langchain_core.output_parsers import StrOutputParser\n",
    "\n",
    "parser = StrOutputParser()\n",
    "\n",
    "chain = model | parser\n"
   ]
  },
  {
   "cell_type": "code",
   "execution_count": 25,
   "metadata": {},
   "outputs": [
    {
     "data": {
      "text/plain": [
       "[Document(page_content='Manufacturer: Acura\\nModel: Integra\\nSales_in_thousands: 16.919\\n__year_resale_value: 16.36\\nVehicle_type: Passenger\\nPrice_in_thousands: 21.5\\nEngine_size: 1.8\\nHorsepower: 140\\nWheelbase: 101.2\\nWidth: 67.3\\nLength: 172.4\\nCurb_weight: 2.639\\nFuel_capacity: 13.2\\nFuel_efficiency: 28\\nLatest_Launch: 2/2/2012\\nPower_perf_factor: 58.28014952', metadata={'source': 'Car_sales.csv', 'row': 0}),\n",
       " Document(page_content='Manufacturer: Acura\\nModel: TL\\nSales_in_thousands: 39.384\\n__year_resale_value: 19.875\\nVehicle_type: Passenger\\nPrice_in_thousands: 28.4\\nEngine_size: 3.2\\nHorsepower: 225\\nWheelbase: 108.1\\nWidth: 70.3\\nLength: 192.9\\nCurb_weight: 3.517\\nFuel_capacity: 17.2\\nFuel_efficiency: 25\\nLatest_Launch: 6/3/2011\\nPower_perf_factor: 91.37077766', metadata={'source': 'Car_sales.csv', 'row': 1}),\n",
       " Document(page_content='Manufacturer: Acura\\nModel: CL\\nSales_in_thousands: 14.114\\n__year_resale_value: 18.225\\nVehicle_type: Passenger\\nPrice_in_thousands: \\nEngine_size: 3.2\\nHorsepower: 225\\nWheelbase: 106.9\\nWidth: 70.6\\nLength: 192\\nCurb_weight: 3.47\\nFuel_capacity: 17.2\\nFuel_efficiency: 26\\nLatest_Launch: 1/4/2012\\nPower_perf_factor:', metadata={'source': 'Car_sales.csv', 'row': 2}),\n",
       " Document(page_content='Manufacturer: Acura\\nModel: RL\\nSales_in_thousands: 8.588\\n__year_resale_value: 29.725\\nVehicle_type: Passenger\\nPrice_in_thousands: 42\\nEngine_size: 3.5\\nHorsepower: 210\\nWheelbase: 114.6\\nWidth: 71.4\\nLength: 196.6\\nCurb_weight: 3.85\\nFuel_capacity: 18\\nFuel_efficiency: 22\\nLatest_Launch: 3/10/2011\\nPower_perf_factor: 91.38977933', metadata={'source': 'Car_sales.csv', 'row': 3}),\n",
       " Document(page_content='Manufacturer: Audi\\nModel: A4\\nSales_in_thousands: 20.397\\n__year_resale_value: 22.255\\nVehicle_type: Passenger\\nPrice_in_thousands: 23.99\\nEngine_size: 1.8\\nHorsepower: 150\\nWheelbase: 102.6\\nWidth: 68.2\\nLength: 178\\nCurb_weight: 2.998\\nFuel_capacity: 16.4\\nFuel_efficiency: 27\\nLatest_Launch: 10/8/2011\\nPower_perf_factor: 62.7776392', metadata={'source': 'Car_sales.csv', 'row': 4}),\n",
       " Document(page_content='Manufacturer: Audi\\nModel: A6\\nSales_in_thousands: 18.78\\n__year_resale_value: 23.555\\nVehicle_type: Passenger\\nPrice_in_thousands: 33.95\\nEngine_size: 2.8\\nHorsepower: 200\\nWheelbase: 108.7\\nWidth: 76.1\\nLength: 192\\nCurb_weight: 3.561\\nFuel_capacity: 18.5\\nFuel_efficiency: 22\\nLatest_Launch: 8/9/2011\\nPower_perf_factor: 84.56510502', metadata={'source': 'Car_sales.csv', 'row': 5}),\n",
       " Document(page_content='Manufacturer: Audi\\nModel: A8\\nSales_in_thousands: 1.38\\n__year_resale_value: 39\\nVehicle_type: Passenger\\nPrice_in_thousands: 62\\nEngine_size: 4.2\\nHorsepower: 310\\nWheelbase: 113\\nWidth: 74\\nLength: 198.2\\nCurb_weight: 3.902\\nFuel_capacity: 23.7\\nFuel_efficiency: 21\\nLatest_Launch: 2/27/2012\\nPower_perf_factor: 134.6568582', metadata={'source': 'Car_sales.csv', 'row': 6}),\n",
       " Document(page_content='Manufacturer: BMW\\nModel: 323i\\nSales_in_thousands: 19.747\\n__year_resale_value: \\nVehicle_type: Passenger\\nPrice_in_thousands: 26.99\\nEngine_size: 2.5\\nHorsepower: 170\\nWheelbase: 107.3\\nWidth: 68.4\\nLength: 176\\nCurb_weight: 3.179\\nFuel_capacity: 16.6\\nFuel_efficiency: 26\\nLatest_Launch: 6/28/2011\\nPower_perf_factor: 71.19120671', metadata={'source': 'Car_sales.csv', 'row': 7}),\n",
       " Document(page_content='Manufacturer: BMW\\nModel: 328i\\nSales_in_thousands: 9.231\\n__year_resale_value: 28.675\\nVehicle_type: Passenger\\nPrice_in_thousands: 33.4\\nEngine_size: 2.8\\nHorsepower: 193\\nWheelbase: 107.3\\nWidth: 68.5\\nLength: 176\\nCurb_weight: 3.197\\nFuel_capacity: 16.6\\nFuel_efficiency: 24\\nLatest_Launch: 1/29/2012\\nPower_perf_factor: 81.87706856', metadata={'source': 'Car_sales.csv', 'row': 8}),\n",
       " Document(page_content='Manufacturer: BMW\\nModel: 528i\\nSales_in_thousands: 17.527\\n__year_resale_value: 36.125\\nVehicle_type: Passenger\\nPrice_in_thousands: 38.9\\nEngine_size: 2.8\\nHorsepower: 193\\nWheelbase: 111.4\\nWidth: 70.9\\nLength: 188\\nCurb_weight: 3.472\\nFuel_capacity: 18.5\\nFuel_efficiency: 25\\nLatest_Launch: 4/4/2011\\nPower_perf_factor: 83.9987238', metadata={'source': 'Car_sales.csv', 'row': 9}),\n",
       " Document(page_content='Manufacturer: Buick\\nModel: Century\\nSales_in_thousands: 91.561\\n__year_resale_value: 12.475\\nVehicle_type: Passenger\\nPrice_in_thousands: 21.975\\nEngine_size: 3.1\\nHorsepower: 175\\nWheelbase: 109\\nWidth: 72.7\\nLength: 194.6\\nCurb_weight: 3.368\\nFuel_capacity: 17.5\\nFuel_efficiency: 25\\nLatest_Launch: 11/2/2011\\nPower_perf_factor: 71.18145132', metadata={'source': 'Car_sales.csv', 'row': 10}),\n",
       " Document(page_content='Manufacturer: Buick\\nModel: Regal\\nSales_in_thousands: 39.35\\n__year_resale_value: 13.74\\nVehicle_type: Passenger\\nPrice_in_thousands: 25.3\\nEngine_size: 3.8\\nHorsepower: 240\\nWheelbase: 109\\nWidth: 72.7\\nLength: 196.2\\nCurb_weight: 3.543\\nFuel_capacity: 17.5\\nFuel_efficiency: 23\\nLatest_Launch: 9/3/2011\\nPower_perf_factor: 95.63670253', metadata={'source': 'Car_sales.csv', 'row': 11}),\n",
       " Document(page_content='Manufacturer: Buick\\nModel: Park Avenue\\nSales_in_thousands: 27.851\\n__year_resale_value: 20.19\\nVehicle_type: Passenger\\nPrice_in_thousands: 31.965\\nEngine_size: 3.8\\nHorsepower: 205\\nWheelbase: 113.8\\nWidth: 74.7\\nLength: 206.8\\nCurb_weight: 3.778\\nFuel_capacity: 18.5\\nFuel_efficiency: 24\\nLatest_Launch: 3/23/2012\\nPower_perf_factor: 85.82840825', metadata={'source': 'Car_sales.csv', 'row': 12}),\n",
       " Document(page_content='Manufacturer: Buick\\nModel: LeSabre\\nSales_in_thousands: 83.257\\n__year_resale_value: 13.36\\nVehicle_type: Passenger\\nPrice_in_thousands: 27.885\\nEngine_size: 3.8\\nHorsepower: 205\\nWheelbase: 112.2\\nWidth: 73.5\\nLength: 200\\nCurb_weight: 3.591\\nFuel_capacity: 17.5\\nFuel_efficiency: 25\\nLatest_Launch: 7/23/2011\\nPower_perf_factor: 84.25452581', metadata={'source': 'Car_sales.csv', 'row': 13}),\n",
       " Document(page_content='Manufacturer: Cadillac\\nModel: DeVille\\nSales_in_thousands: 63.729\\n__year_resale_value: 22.525\\nVehicle_type: Passenger\\nPrice_in_thousands: 39.895\\nEngine_size: 4.6\\nHorsepower: 275\\nWheelbase: 115.3\\nWidth: 74.5\\nLength: 207.2\\nCurb_weight: 3.978\\nFuel_capacity: 18.5\\nFuel_efficiency: 22\\nLatest_Launch: 2/23/2012\\nPower_perf_factor: 113.8545976', metadata={'source': 'Car_sales.csv', 'row': 14}),\n",
       " Document(page_content='Manufacturer: Cadillac\\nModel: Seville\\nSales_in_thousands: 15.943\\n__year_resale_value: 27.1\\nVehicle_type: Passenger\\nPrice_in_thousands: 44.475\\nEngine_size: 4.6\\nHorsepower: 275\\nWheelbase: 112.2\\nWidth: 75\\nLength: 201\\nCurb_weight: \\nFuel_capacity: 18.5\\nFuel_efficiency: 22\\nLatest_Launch: 4/29/2011\\nPower_perf_factor: 115.6213578', metadata={'source': 'Car_sales.csv', 'row': 15}),\n",
       " Document(page_content='Manufacturer: Cadillac\\nModel: Eldorado\\nSales_in_thousands: 6.536\\n__year_resale_value: 25.725\\nVehicle_type: Passenger\\nPrice_in_thousands: 39.665\\nEngine_size: 4.6\\nHorsepower: 275\\nWheelbase: 108\\nWidth: 75.5\\nLength: 200.6\\nCurb_weight: 3.843\\nFuel_capacity: 19\\nFuel_efficiency: 22\\nLatest_Launch: 11/27/2011\\nPower_perf_factor: 113.7658739', metadata={'source': 'Car_sales.csv', 'row': 16}),\n",
       " Document(page_content='Manufacturer: Cadillac\\nModel: Catera\\nSales_in_thousands: 11.185\\n__year_resale_value: 18.225\\nVehicle_type: Passenger\\nPrice_in_thousands: 31.01\\nEngine_size: 3\\nHorsepower: 200\\nWheelbase: 107.4\\nWidth: 70.3\\nLength: 194.8\\nCurb_weight: 3.77\\nFuel_capacity: 18\\nFuel_efficiency: 22\\nLatest_Launch: 9/28/2011\\nPower_perf_factor: 83.48309358', metadata={'source': 'Car_sales.csv', 'row': 17}),\n",
       " Document(page_content='Manufacturer: Cadillac\\nModel: Escalade\\nSales_in_thousands: 14.785\\n__year_resale_value: \\nVehicle_type: Car\\nPrice_in_thousands: 46.225\\nEngine_size: 5.7\\nHorsepower: 255\\nWheelbase: 117.5\\nWidth: 77\\nLength: 201.2\\nCurb_weight: 5.572\\nFuel_capacity: 30\\nFuel_efficiency: 15\\nLatest_Launch: 4/17/2012\\nPower_perf_factor: 109.5091165', metadata={'source': 'Car_sales.csv', 'row': 18}),\n",
       " Document(page_content='Manufacturer: Chevrolet\\nModel: Cavalier\\nSales_in_thousands: 145.519\\n__year_resale_value: 9.25\\nVehicle_type: Passenger\\nPrice_in_thousands: 13.26\\nEngine_size: 2.2\\nHorsepower: 115\\nWheelbase: 104.1\\nWidth: 67.9\\nLength: 180.9\\nCurb_weight: 2.676\\nFuel_capacity: 14.3\\nFuel_efficiency: 27\\nLatest_Launch: 8/17/2011\\nPower_perf_factor: 46.36334747', metadata={'source': 'Car_sales.csv', 'row': 19}),\n",
       " Document(page_content='Manufacturer: Chevrolet\\nModel: Malibu\\nSales_in_thousands: 135.126\\n__year_resale_value: 11.225\\nVehicle_type: Passenger\\nPrice_in_thousands: 16.535\\nEngine_size: 3.1\\nHorsepower: 170\\nWheelbase: 107\\nWidth: 69.4\\nLength: 190.4\\nCurb_weight: 3.051\\nFuel_capacity: 15\\nFuel_efficiency: 25\\nLatest_Launch: 3/19/2012\\nPower_perf_factor: 67.31446216', metadata={'source': 'Car_sales.csv', 'row': 20}),\n",
       " Document(page_content='Manufacturer: Chevrolet\\nModel: Lumina\\nSales_in_thousands: 24.629\\n__year_resale_value: 10.31\\nVehicle_type: Passenger\\nPrice_in_thousands: 18.89\\nEngine_size: 3.1\\nHorsepower: 175\\nWheelbase: 107.5\\nWidth: 72.5\\nLength: 200.9\\nCurb_weight: 3.33\\nFuel_capacity: 16.6\\nFuel_efficiency: 25\\nLatest_Launch: 5/24/2011\\nPower_perf_factor: 69.9913956', metadata={'source': 'Car_sales.csv', 'row': 21}),\n",
       " Document(page_content='Manufacturer: Chevrolet\\nModel: Monte Carlo\\nSales_in_thousands: 42.593\\n__year_resale_value: 11.525\\nVehicle_type: Passenger\\nPrice_in_thousands: 19.39\\nEngine_size: 3.4\\nHorsepower: 180\\nWheelbase: 110.5\\nWidth: 72.7\\nLength: 197.9\\nCurb_weight: 3.34\\nFuel_capacity: 17\\nFuel_efficiency: 27\\nLatest_Launch: 12/22/2011\\nPower_perf_factor: 72.03091719', metadata={'source': 'Car_sales.csv', 'row': 22}),\n",
       " Document(page_content='Manufacturer: Chevrolet\\nModel: Camaro\\nSales_in_thousands: 26.402\\n__year_resale_value: 13.025\\nVehicle_type: Passenger\\nPrice_in_thousands: 24.34\\nEngine_size: 3.8\\nHorsepower: 200\\nWheelbase: 101.1\\nWidth: 74.1\\nLength: 193.2\\nCurb_weight: 3.5\\nFuel_capacity: 16.8\\nFuel_efficiency: 25\\nLatest_Launch: 10/23/2011\\nPower_perf_factor: 81.11854333', metadata={'source': 'Car_sales.csv', 'row': 23}),\n",
       " Document(page_content='Manufacturer: Chevrolet\\nModel: Corvette\\nSales_in_thousands: 17.947\\n__year_resale_value: 36.225\\nVehicle_type: Passenger\\nPrice_in_thousands: 45.705\\nEngine_size: 5.7\\nHorsepower: 345\\nWheelbase: 104.5\\nWidth: 73.6\\nLength: 179.7\\nCurb_weight: 3.21\\nFuel_capacity: 19.1\\nFuel_efficiency: 22\\nLatest_Launch: 5/12/2012\\nPower_perf_factor: 141.14115', metadata={'source': 'Car_sales.csv', 'row': 24}),\n",
       " Document(page_content='Manufacturer: Chevrolet\\nModel: Prizm\\nSales_in_thousands: 32.299\\n__year_resale_value: 9.125\\nVehicle_type: Passenger\\nPrice_in_thousands: 13.96\\nEngine_size: 1.8\\nHorsepower: 120\\nWheelbase: 97.1\\nWidth: 66.7\\nLength: 174.3\\nCurb_weight: 2.398\\nFuel_capacity: 13.2\\nFuel_efficiency: 33\\nLatest_Launch: 9/11/2011\\nPower_perf_factor: 48.2976361', metadata={'source': 'Car_sales.csv', 'row': 25}),\n",
       " Document(page_content='Manufacturer: Chevrolet\\nModel: Metro\\nSales_in_thousands: 21.855\\n__year_resale_value: 5.16\\nVehicle_type: Passenger\\nPrice_in_thousands: 9.235\\nEngine_size: 1\\nHorsepower: 55\\nWheelbase: 93.1\\nWidth: 62.6\\nLength: 149.4\\nCurb_weight: 1.895\\nFuel_capacity: 10.3\\nFuel_efficiency: 45\\nLatest_Launch: 4/13/2012\\nPower_perf_factor: 23.27627233', metadata={'source': 'Car_sales.csv', 'row': 26}),\n",
       " Document(page_content='Manufacturer: Chevrolet\\nModel: Impala\\nSales_in_thousands: 107.995\\n__year_resale_value: \\nVehicle_type: Passenger\\nPrice_in_thousands: 18.89\\nEngine_size: 3.4\\nHorsepower: 180\\nWheelbase: 110.5\\nWidth: 73\\nLength: 200\\nCurb_weight: 3.389\\nFuel_capacity: 17\\nFuel_efficiency: 27\\nLatest_Launch: 6/18/2011\\nPower_perf_factor: 71.83803944', metadata={'source': 'Car_sales.csv', 'row': 27}),\n",
       " Document(page_content='Manufacturer: Chrysler\\nModel: Sebring Coupe\\nSales_in_thousands: 7.854\\n__year_resale_value: 12.36\\nVehicle_type: Passenger\\nPrice_in_thousands: 19.84\\nEngine_size: 2.5\\nHorsepower: 163\\nWheelbase: 103.7\\nWidth: 69.7\\nLength: 190.9\\nCurb_weight: 2.967\\nFuel_capacity: 15.9\\nFuel_efficiency: 24\\nLatest_Launch: 1/16/2012\\nPower_perf_factor: 65.95718396', metadata={'source': 'Car_sales.csv', 'row': 28}),\n",
       " Document(page_content='Manufacturer: Chrysler\\nModel: Sebring Conv.\\nSales_in_thousands: 32.775\\n__year_resale_value: 14.18\\nVehicle_type: Passenger\\nPrice_in_thousands: 24.495\\nEngine_size: 2.5\\nHorsepower: 168\\nWheelbase: 106\\nWidth: 69.2\\nLength: 193\\nCurb_weight: 3.332\\nFuel_capacity: 16\\nFuel_efficiency: 24\\nLatest_Launch: 11/17/2011\\nPower_perf_factor: 69.52135505', metadata={'source': 'Car_sales.csv', 'row': 29}),\n",
       " Document(page_content='Manufacturer: Chrysler\\nModel: Concorde\\nSales_in_thousands: 31.148\\n__year_resale_value: 13.725\\nVehicle_type: Passenger\\nPrice_in_thousands: 22.245\\nEngine_size: 2.7\\nHorsepower: 200\\nWheelbase: 113\\nWidth: 74.4\\nLength: 209.1\\nCurb_weight: 3.452\\nFuel_capacity: 17\\nFuel_efficiency: 26\\nLatest_Launch: 6/6/2012\\nPower_perf_factor: 80.02378204', metadata={'source': 'Car_sales.csv', 'row': 30}),\n",
       " Document(page_content='Manufacturer: Chrysler\\nModel: Cirrus\\nSales_in_thousands: 32.306\\n__year_resale_value: 12.64\\nVehicle_type: Passenger\\nPrice_in_thousands: 16.48\\nEngine_size: 2\\nHorsepower: 132\\nWheelbase: 108\\nWidth: 71\\nLength: 186\\nCurb_weight: 2.911\\nFuel_capacity: 16\\nFuel_efficiency: 27\\nLatest_Launch: 10/6/2011\\nPower_perf_factor: 53.56619987', metadata={'source': 'Car_sales.csv', 'row': 31}),\n",
       " Document(page_content='Manufacturer: Chrysler\\nModel: LHS\\nSales_in_thousands: 13.462\\n__year_resale_value: 17.325\\nVehicle_type: Passenger\\nPrice_in_thousands: 28.34\\nEngine_size: 3.5\\nHorsepower: 253\\nWheelbase: 113\\nWidth: 74.4\\nLength: 207.7\\nCurb_weight: 3.564\\nFuel_capacity: 17\\nFuel_efficiency: 23\\nLatest_Launch: 5/8/2012\\nPower_perf_factor: 101.3292807', metadata={'source': 'Car_sales.csv', 'row': 32}),\n",
       " Document(page_content='Manufacturer: Chrysler\\nModel: Town & Country\\nSales_in_thousands: 53.48\\n__year_resale_value: 19.54\\nVehicle_type: Car\\nPrice_in_thousands: \\nEngine_size: \\nHorsepower: \\nWheelbase: \\nWidth: \\nLength: \\nCurb_weight: \\nFuel_capacity: \\nFuel_efficiency: \\nLatest_Launch: 7/13/2011\\nPower_perf_factor:', metadata={'source': 'Car_sales.csv', 'row': 33}),\n",
       " Document(page_content='Manufacturer: Chrysler\\nModel: 300M\\nSales_in_thousands: 30.696\\n__year_resale_value: \\nVehicle_type: Passenger\\nPrice_in_thousands: 29.185\\nEngine_size: 3.5\\nHorsepower: 253\\nWheelbase: 113\\nWidth: 74.4\\nLength: 197.8\\nCurb_weight: 3.567\\nFuel_capacity: 17\\nFuel_efficiency: 23\\nLatest_Launch: 2/10/2012\\nPower_perf_factor: 101.6552441', metadata={'source': 'Car_sales.csv', 'row': 34}),\n",
       " Document(page_content='Manufacturer: Dodge\\nModel: Neon\\nSales_in_thousands: 76.034\\n__year_resale_value: 7.75\\nVehicle_type: Passenger\\nPrice_in_thousands: 12.64\\nEngine_size: 2\\nHorsepower: 132\\nWheelbase: 105\\nWidth: 74.4\\nLength: 174.4\\nCurb_weight: 2.567\\nFuel_capacity: 12.5\\nFuel_efficiency: 29\\nLatest_Launch: 12/12/2011\\nPower_perf_factor: 52.08489875', metadata={'source': 'Car_sales.csv', 'row': 35}),\n",
       " Document(page_content='Manufacturer: Dodge\\nModel: Avenger\\nSales_in_thousands: 4.734\\n__year_resale_value: 12.545\\nVehicle_type: Passenger\\nPrice_in_thousands: 19.045\\nEngine_size: 2.5\\nHorsepower: 163\\nWheelbase: 103.7\\nWidth: 69.1\\nLength: 190.2\\nCurb_weight: 2.879\\nFuel_capacity: 15.9\\nFuel_efficiency: 24\\nLatest_Launch: 7/1/2012\\nPower_perf_factor: 65.65050834', metadata={'source': 'Car_sales.csv', 'row': 36}),\n",
       " Document(page_content='Manufacturer: Dodge\\nModel: Stratus\\nSales_in_thousands: 71.186\\n__year_resale_value: 10.185\\nVehicle_type: Passenger\\nPrice_in_thousands: 20.23\\nEngine_size: 2.5\\nHorsepower: 168\\nWheelbase: 108\\nWidth: 71\\nLength: 186\\nCurb_weight: 3.058\\nFuel_capacity: 16\\nFuel_efficiency: 24\\nLatest_Launch: 10/31/2011\\nPower_perf_factor: 67.87610784', metadata={'source': 'Car_sales.csv', 'row': 37}),\n",
       " Document(page_content='Manufacturer: Dodge\\nModel: Intrepid\\nSales_in_thousands: 88.028\\n__year_resale_value: 12.275\\nVehicle_type: Passenger\\nPrice_in_thousands: 22.505\\nEngine_size: 2.7\\nHorsepower: 202\\nWheelbase: 113\\nWidth: 74.7\\nLength: 203.7\\nCurb_weight: 3.489\\nFuel_capacity: 17\\nFuel_efficiency: \\nLatest_Launch: 6/2/2012\\nPower_perf_factor: 80.83147017', metadata={'source': 'Car_sales.csv', 'row': 38}),\n",
       " Document(page_content='Manufacturer: Dodge\\nModel: Viper\\nSales_in_thousands: 0.916\\n__year_resale_value: 58.47\\nVehicle_type: Passenger\\nPrice_in_thousands: 69.725\\nEngine_size: 8\\nHorsepower: 450\\nWheelbase: 96.2\\nWidth: 75.7\\nLength: 176.7\\nCurb_weight: 3.375\\nFuel_capacity: 19\\nFuel_efficiency: 16\\nLatest_Launch: 8/7/2011\\nPower_perf_factor: 188.144323', metadata={'source': 'Car_sales.csv', 'row': 39}),\n",
       " Document(page_content='Manufacturer: Dodge\\nModel: Ram Pickup\\nSales_in_thousands: 227.061\\n__year_resale_value: 15.06\\nVehicle_type: Car\\nPrice_in_thousands: 19.46\\nEngine_size: 5.2\\nHorsepower: 230\\nWheelbase: 138.7\\nWidth: 79.3\\nLength: 224.2\\nCurb_weight: 4.47\\nFuel_capacity: 26\\nFuel_efficiency: 17\\nLatest_Launch: 3/6/2012\\nPower_perf_factor: 90.21170005', metadata={'source': 'Car_sales.csv', 'row': 40}),\n",
       " Document(page_content='Manufacturer: Dodge\\nModel: Ram Wagon\\nSales_in_thousands: 16.767\\n__year_resale_value: 15.51\\nVehicle_type: Car\\nPrice_in_thousands: 21.315\\nEngine_size: 3.9\\nHorsepower: 175\\nWheelbase: 109.6\\nWidth: 78.8\\nLength: 192.6\\nCurb_weight: 4.245\\nFuel_capacity: 32\\nFuel_efficiency: 15\\nLatest_Launch: 1/6/2012\\nPower_perf_factor: 71.13529161', metadata={'source': 'Car_sales.csv', 'row': 41}),\n",
       " Document(page_content='Manufacturer: Dodge\\nModel: Ram Van\\nSales_in_thousands: 31.038\\n__year_resale_value: 13.425\\nVehicle_type: Car\\nPrice_in_thousands: 18.575\\nEngine_size: 3.9\\nHorsepower: 175\\nWheelbase: 127.2\\nWidth: 78.8\\nLength: 208.5\\nCurb_weight: 4.298\\nFuel_capacity: 32\\nFuel_efficiency: 16\\nLatest_Launch: 7/26/2012\\nPower_perf_factor: 70.07832154', metadata={'source': 'Car_sales.csv', 'row': 42}),\n",
       " Document(page_content='Manufacturer: Dodge\\nModel: Dakota\\nSales_in_thousands: 111.313\\n__year_resale_value: 11.26\\nVehicle_type: Car\\nPrice_in_thousands: 16.98\\nEngine_size: 2.5\\nHorsepower: 120\\nWheelbase: 131\\nWidth: 71.5\\nLength: 215\\nCurb_weight: 3.557\\nFuel_capacity: 22\\nFuel_efficiency: 19\\nLatest_Launch: 11/25/2011\\nPower_perf_factor: 49.64500177', metadata={'source': 'Car_sales.csv', 'row': 43}),\n",
       " Document(page_content='Manufacturer: Dodge\\nModel: Durango\\nSales_in_thousands: 101.323\\n__year_resale_value: \\nVehicle_type: Car\\nPrice_in_thousands: 26.31\\nEngine_size: 5.2\\nHorsepower: 230\\nWheelbase: 115.7\\nWidth: 71.7\\nLength: 193.5\\nCurb_weight: 4.394\\nFuel_capacity: 25\\nFuel_efficiency: 17\\nLatest_Launch: 6/27/2012\\nPower_perf_factor: 92.85412522', metadata={'source': 'Car_sales.csv', 'row': 44}),\n",
       " Document(page_content='Manufacturer: Dodge\\nModel: Caravan\\nSales_in_thousands: 181.749\\n__year_resale_value: 12.025\\nVehicle_type: Car\\nPrice_in_thousands: 19.565\\nEngine_size: 2.4\\nHorsepower: 150\\nWheelbase: 113.3\\nWidth: 76.8\\nLength: 186.3\\nCurb_weight: 3.533\\nFuel_capacity: 20\\nFuel_efficiency: 24\\nLatest_Launch: 9/1/2011\\nPower_perf_factor: 61.22700031', metadata={'source': 'Car_sales.csv', 'row': 45}),\n",
       " Document(page_content='Manufacturer: Ford\\nModel: Escort\\nSales_in_thousands: 70.227\\n__year_resale_value: 7.425\\nVehicle_type: Passenger\\nPrice_in_thousands: 12.07\\nEngine_size: 2\\nHorsepower: 110\\nWheelbase: 98.4\\nWidth: 67\\nLength: 174.7\\nCurb_weight: 2.468\\nFuel_capacity: 12.7\\nFuel_efficiency: 30\\nLatest_Launch: 3/31/2012\\nPower_perf_factor: 44.08370946', metadata={'source': 'Car_sales.csv', 'row': 46}),\n",
       " Document(page_content='Manufacturer: Ford\\nModel: Mustang\\nSales_in_thousands: 113.369\\n__year_resale_value: 12.76\\nVehicle_type: Passenger\\nPrice_in_thousands: 21.56\\nEngine_size: 3.8\\nHorsepower: 190\\nWheelbase: 101.3\\nWidth: 73.1\\nLength: 183.2\\nCurb_weight: 3.203\\nFuel_capacity: 15.7\\nFuel_efficiency: 24\\nLatest_Launch: 1/31/2012\\nPower_perf_factor: 76.50918456', metadata={'source': 'Car_sales.csv', 'row': 47}),\n",
       " Document(page_content='Manufacturer: Ford\\nModel: Contour\\nSales_in_thousands: 35.068\\n__year_resale_value: 8.835\\nVehicle_type: Passenger\\nPrice_in_thousands: 17.035\\nEngine_size: 2.5\\nHorsepower: 170\\nWheelbase: 106.5\\nWidth: 69.1\\nLength: 184.6\\nCurb_weight: 2.769\\nFuel_capacity: 15\\nFuel_efficiency: 25\\nLatest_Launch: 8/20/2012\\nPower_perf_factor: 67.35101072', metadata={'source': 'Car_sales.csv', 'row': 48}),\n",
       " Document(page_content='Manufacturer: Ford\\nModel: Taurus\\nSales_in_thousands: 245.815\\n__year_resale_value: 10.055\\nVehicle_type: Passenger\\nPrice_in_thousands: 17.885\\nEngine_size: 3\\nHorsepower: 155\\nWheelbase: 108.5\\nWidth: 73\\nLength: 197.6\\nCurb_weight: 3.368\\nFuel_capacity: 16\\nFuel_efficiency: 24\\nLatest_Launch: 12/20/2011\\nPower_perf_factor: 62.5037395', metadata={'source': 'Car_sales.csv', 'row': 49}),\n",
       " Document(page_content='Manufacturer: Ford\\nModel: Focus\\nSales_in_thousands: 175.67\\n__year_resale_value: \\nVehicle_type: Passenger\\nPrice_in_thousands: 12.315\\nEngine_size: 2\\nHorsepower: 107\\nWheelbase: 103\\nWidth: 66.9\\nLength: 174.8\\nCurb_weight: 2.564\\nFuel_capacity: 13.2\\nFuel_efficiency: 30\\nLatest_Launch: 7/22/2012\\nPower_perf_factor: 43.11713201', metadata={'source': 'Car_sales.csv', 'row': 50}),\n",
       " Document(page_content='Manufacturer: Ford\\nModel: Crown Victoria\\nSales_in_thousands: 63.403\\n__year_resale_value: 14.21\\nVehicle_type: Passenger\\nPrice_in_thousands: 22.195\\nEngine_size: 4.6\\nHorsepower: 200\\nWheelbase: 114.7\\nWidth: 78.2\\nLength: 212\\nCurb_weight: 3.908\\nFuel_capacity: 19\\nFuel_efficiency: 21\\nLatest_Launch: 9/26/2011\\nPower_perf_factor: 80.49953671', metadata={'source': 'Car_sales.csv', 'row': 51}),\n",
       " Document(page_content='Manufacturer: Ford\\nModel: Explorer\\nSales_in_thousands: 276.747\\n__year_resale_value: 16.64\\nVehicle_type: Car\\nPrice_in_thousands: 31.93\\nEngine_size: 4\\nHorsepower: 210\\nWheelbase: 111.6\\nWidth: 70.2\\nLength: 190.7\\nCurb_weight: 3.876\\nFuel_capacity: 21\\nFuel_efficiency: 19\\nLatest_Launch: 4/25/2012\\nPower_perf_factor: 87.63549578', metadata={'source': 'Car_sales.csv', 'row': 52}),\n",
       " Document(page_content='Manufacturer: Ford\\nModel: Windstar\\nSales_in_thousands: 155.787\\n__year_resale_value: 13.175\\nVehicle_type: Car\\nPrice_in_thousands: 21.41\\nEngine_size: 3\\nHorsepower: 150\\nWheelbase: 120.7\\nWidth: 76.6\\nLength: 200.9\\nCurb_weight: 3.761\\nFuel_capacity: 26\\nFuel_efficiency: 21\\nLatest_Launch: 2/25/2012\\nPower_perf_factor: 62.09504839', metadata={'source': 'Car_sales.csv', 'row': 53}),\n",
       " Document(page_content='Manufacturer: Ford\\nModel: Expedition\\nSales_in_thousands: 125.338\\n__year_resale_value: 23.575\\nVehicle_type: Car\\nPrice_in_thousands: 36.135\\nEngine_size: 4.6\\nHorsepower: 240\\nWheelbase: 119\\nWidth: 78.7\\nLength: 204.6\\nCurb_weight: 4.808\\nFuel_capacity: 26\\nFuel_efficiency: 16\\nLatest_Launch: 9/14/2012\\nPower_perf_factor: 100.0248023', metadata={'source': 'Car_sales.csv', 'row': 54}),\n",
       " Document(page_content='Manufacturer: Ford\\nModel: Ranger\\nSales_in_thousands: 220.65\\n__year_resale_value: 7.85\\nVehicle_type: Car\\nPrice_in_thousands: 12.05\\nEngine_size: 2.5\\nHorsepower: 119\\nWheelbase: 117.5\\nWidth: 69.4\\nLength: 200.7\\nCurb_weight: 3.086\\nFuel_capacity: 20\\nFuel_efficiency: 23\\nLatest_Launch: 1/14/2012\\nPower_perf_factor: 47.38953131', metadata={'source': 'Car_sales.csv', 'row': 55}),\n",
       " Document(page_content='Manufacturer: Ford\\nModel: F-Series\\nSales_in_thousands: 540.561\\n__year_resale_value: 15.075\\nVehicle_type: Car\\nPrice_in_thousands: 26.935\\nEngine_size: 4.6\\nHorsepower: 220\\nWheelbase: 138.5\\nWidth: 79.1\\nLength: 224.5\\nCurb_weight: 4.241\\nFuel_capacity: 25.1\\nFuel_efficiency: 18\\nLatest_Launch: 8/16/2012\\nPower_perf_factor: 89.40193473', metadata={'source': 'Car_sales.csv', 'row': 56}),\n",
       " Document(page_content='Manufacturer: Honda\\nModel: Civic\\nSales_in_thousands: 199.685\\n__year_resale_value: 9.85\\nVehicle_type: Passenger\\nPrice_in_thousands: 12.885\\nEngine_size: 1.6\\nHorsepower: 106\\nWheelbase: 103.2\\nWidth: 67.1\\nLength: 175.1\\nCurb_weight: 2.339\\nFuel_capacity: 11.9\\nFuel_efficiency: 32\\nLatest_Launch: 10/21/2011\\nPower_perf_factor: 42.87909734', metadata={'source': 'Car_sales.csv', 'row': 57}),\n",
       " Document(page_content='Manufacturer: Honda\\nModel: Accord\\nSales_in_thousands: 230.902\\n__year_resale_value: 13.21\\nVehicle_type: Passenger\\nPrice_in_thousands: 15.35\\nEngine_size: 2.3\\nHorsepower: 135\\nWheelbase: 106.9\\nWidth: 70.3\\nLength: 188.8\\nCurb_weight: 2.932\\nFuel_capacity: 17.1\\nFuel_efficiency: 27\\nLatest_Launch: 5/20/2012\\nPower_perf_factor: 54.26954829', metadata={'source': 'Car_sales.csv', 'row': 58}),\n",
       " Document(page_content='Manufacturer: Honda\\nModel: CR-V\\nSales_in_thousands: 73.203\\n__year_resale_value: 17.71\\nVehicle_type: Car\\nPrice_in_thousands: 20.55\\nEngine_size: 2\\nHorsepower: 146\\nWheelbase: 103.2\\nWidth: 68.9\\nLength: 177.6\\nCurb_weight: 3.219\\nFuel_capacity: 15.3\\nFuel_efficiency: 24\\nLatest_Launch: 3/21/2012\\nPower_perf_factor: 60.08796662', metadata={'source': 'Car_sales.csv', 'row': 59}),\n",
       " Document(page_content='Manufacturer: Honda\\nModel: Passport\\nSales_in_thousands: 12.855\\n__year_resale_value: 17.525\\nVehicle_type: Car\\nPrice_in_thousands: 26.6\\nEngine_size: 3.2\\nHorsepower: 205\\nWheelbase: 106.4\\nWidth: 70.4\\nLength: 178.2\\nCurb_weight: 3.857\\nFuel_capacity: 21.1\\nFuel_efficiency: 19\\nLatest_Launch: 10/9/2012\\nPower_perf_factor: 83.6025008', metadata={'source': 'Car_sales.csv', 'row': 60}),\n",
       " Document(page_content='Manufacturer: Honda\\nModel: Odyssey\\nSales_in_thousands: 76.029\\n__year_resale_value: 19.49\\nVehicle_type: Car\\nPrice_in_thousands: 26\\nEngine_size: 3.5\\nHorsepower: 210\\nWheelbase: 118.1\\nWidth: 75.6\\nLength: 201.2\\nCurb_weight: 4.288\\nFuel_capacity: 20\\nFuel_efficiency: 23\\nLatest_Launch: 2/8/2012\\nPower_perf_factor: 85.21769134', metadata={'source': 'Car_sales.csv', 'row': 61}),\n",
       " Document(page_content='Manufacturer: Hyundai\\nModel: Accent\\nSales_in_thousands: 41.184\\n__year_resale_value: 5.86\\nVehicle_type: Passenger\\nPrice_in_thousands: 9.699\\nEngine_size: 1.5\\nHorsepower: 92\\nWheelbase: 96.1\\nWidth: 65.7\\nLength: 166.7\\nCurb_weight: 2.24\\nFuel_capacity: 11.9\\nFuel_efficiency: 31\\nLatest_Launch: 9/10/2012\\nPower_perf_factor: 36.67228358', metadata={'source': 'Car_sales.csv', 'row': 62}),\n",
       " Document(page_content='Manufacturer: Hyundai\\nModel: Elantra\\nSales_in_thousands: 66.692\\n__year_resale_value: 7.825\\nVehicle_type: Passenger\\nPrice_in_thousands: 11.799\\nEngine_size: 2\\nHorsepower: 140\\nWheelbase: 100.4\\nWidth: 66.9\\nLength: 174\\nCurb_weight: 2.626\\nFuel_capacity: 14.5\\nFuel_efficiency: 27\\nLatest_Launch: 11/15/2011\\nPower_perf_factor: 54.59004516', metadata={'source': 'Car_sales.csv', 'row': 63}),\n",
       " Document(page_content='Manufacturer: Hyundai\\nModel: Sonata\\nSales_in_thousands: 29.45\\n__year_resale_value: 8.91\\nVehicle_type: Passenger\\nPrice_in_thousands: 14.999\\nEngine_size: 2.4\\nHorsepower: 148\\nWheelbase: 106.3\\nWidth: 71.6\\nLength: 185.4\\nCurb_weight: 3.072\\nFuel_capacity: 17.2\\nFuel_efficiency: 25\\nLatest_Launch: 6/14/2012\\nPower_perf_factor: 58.758249', metadata={'source': 'Car_sales.csv', 'row': 64}),\n",
       " Document(page_content='Manufacturer: Infiniti\\nModel: I30\\nSales_in_thousands: 23.713\\n__year_resale_value: 19.69\\nVehicle_type: Passenger\\nPrice_in_thousands: 29.465\\nEngine_size: 3\\nHorsepower: 227\\nWheelbase: 108.3\\nWidth: 70.2\\nLength: 193.7\\nCurb_weight: 3.342\\nFuel_capacity: 18.5\\nFuel_efficiency: 25\\nLatest_Launch: 4/15/2012\\nPower_perf_factor: 92.43688923', metadata={'source': 'Car_sales.csv', 'row': 65}),\n",
       " Document(page_content='Manufacturer: Jaguar\\nModel: S-Type\\nSales_in_thousands: 15.467\\n__year_resale_value: \\nVehicle_type: Passenger\\nPrice_in_thousands: 42.8\\nEngine_size: 3\\nHorsepower: 240\\nWheelbase: 114.5\\nWidth: 71.6\\nLength: 191.3\\nCurb_weight: 3.65\\nFuel_capacity: 18.4\\nFuel_efficiency: 21\\nLatest_Launch: 11/3/2012\\nPower_perf_factor: 102.1789848', metadata={'source': 'Car_sales.csv', 'row': 66}),\n",
       " Document(page_content='Manufacturer: Jeep\\nModel: Wrangler\\nSales_in_thousands: 55.557\\n__year_resale_value: 13.475\\nVehicle_type: Car\\nPrice_in_thousands: 14.46\\nEngine_size: 2.5\\nHorsepower: 120\\nWheelbase: 93.4\\nWidth: 66.7\\nLength: 152\\nCurb_weight: 3.045\\nFuel_capacity: 19\\nFuel_efficiency: 17\\nLatest_Launch: 3/4/2012\\nPower_perf_factor: 48.67289791', metadata={'source': 'Car_sales.csv', 'row': 67}),\n",
       " Document(page_content='Manufacturer: Jeep\\nModel: Cherokee\\nSales_in_thousands: 80.556\\n__year_resale_value: 13.775\\nVehicle_type: Car\\nPrice_in_thousands: 21.62\\nEngine_size: 4\\nHorsepower: 190\\nWheelbase: 101.4\\nWidth: 69.4\\nLength: 167.5\\nCurb_weight: 3.194\\nFuel_capacity: 20\\nFuel_efficiency: 20\\nLatest_Launch: 10/5/2012\\nPower_perf_factor: 76.58443962', metadata={'source': 'Car_sales.csv', 'row': 68}),\n",
       " Document(page_content='Manufacturer: Jeep\\nModel: Grand Cherokee\\nSales_in_thousands: 157.04\\n__year_resale_value: 18.81\\nVehicle_type: Car\\nPrice_in_thousands: 26.895\\nEngine_size: 4\\nHorsepower: 195\\nWheelbase: 105.9\\nWidth: 72.3\\nLength: 181.5\\nCurb_weight: 3.88\\nFuel_capacity: 20.5\\nFuel_efficiency: 19\\nLatest_Launch: 12/10/2011\\nPower_perf_factor: 80.38777912', metadata={'source': 'Car_sales.csv', 'row': 69}),\n",
       " Document(page_content='Manufacturer: Lexus\\nModel: ES300\\nSales_in_thousands: 24.072\\n__year_resale_value: 26.975\\nVehicle_type: Passenger\\nPrice_in_thousands: 31.505\\nEngine_size: 3\\nHorsepower: 210\\nWheelbase: 105.1\\nWidth: 70.5\\nLength: 190.2\\nCurb_weight: 3.373\\nFuel_capacity: 18.5\\nFuel_efficiency: 23\\nLatest_Launch: 7/9/2012\\nPower_perf_factor: 87.21100104', metadata={'source': 'Car_sales.csv', 'row': 70}),\n",
       " Document(page_content='Manufacturer: Lexus\\nModel: GS300\\nSales_in_thousands: 12.698\\n__year_resale_value: 32.075\\nVehicle_type: Passenger\\nPrice_in_thousands: 37.805\\nEngine_size: 3\\nHorsepower: 225\\nWheelbase: 110.2\\nWidth: 70.9\\nLength: 189.2\\nCurb_weight: 3.638\\nFuel_capacity: 19.8\\nFuel_efficiency: 23\\nLatest_Launch: 5/10/2012\\nPower_perf_factor: 94.9466984', metadata={'source': 'Car_sales.csv', 'row': 71}),\n",
       " Document(page_content='Manufacturer: Lexus\\nModel: GS400\\nSales_in_thousands: 3.334\\n__year_resale_value: \\nVehicle_type: Passenger\\nPrice_in_thousands: 46.305\\nEngine_size: 4\\nHorsepower: 300\\nWheelbase: 110.2\\nWidth: 70.9\\nLength: 189.2\\nCurb_weight: 3.693\\nFuel_capacity: 19.8\\nFuel_efficiency: 21\\nLatest_Launch: 11/28/2012\\nPower_perf_factor: 125.0133574', metadata={'source': 'Car_sales.csv', 'row': 72}),\n",
       " Document(page_content='Manufacturer: Lexus\\nModel: LS400\\nSales_in_thousands: 6.375\\n__year_resale_value: 40.375\\nVehicle_type: Passenger\\nPrice_in_thousands: 54.005\\nEngine_size: 4\\nHorsepower: 290\\nWheelbase: 112.2\\nWidth: 72\\nLength: 196.7\\nCurb_weight: 3.89\\nFuel_capacity: 22.5\\nFuel_efficiency: 22\\nLatest_Launch: 3/29/2012\\nPower_perf_factor: 124.4467163', metadata={'source': 'Car_sales.csv', 'row': 73}),\n",
       " Document(page_content='Manufacturer: Lexus\\nModel: LX470\\nSales_in_thousands: 9.126\\n__year_resale_value: \\nVehicle_type: Car\\nPrice_in_thousands: 60.105\\nEngine_size: 4.7\\nHorsepower: 230\\nWheelbase: 112.2\\nWidth: 76.4\\nLength: 192.5\\nCurb_weight: 5.401\\nFuel_capacity: 25.4\\nFuel_efficiency: 15\\nLatest_Launch: 10/30/2012\\nPower_perf_factor: 105.760458', metadata={'source': 'Car_sales.csv', 'row': 74}),\n",
       " Document(page_content='Manufacturer: Lexus\\nModel: RX300\\nSales_in_thousands: 51.238\\n__year_resale_value: \\nVehicle_type: Car\\nPrice_in_thousands: 34.605\\nEngine_size: 3\\nHorsepower: 220\\nWheelbase: 103\\nWidth: 71.5\\nLength: 180.1\\nCurb_weight: 3.9\\nFuel_capacity: 17.2\\nFuel_efficiency: 21\\nLatest_Launch: 1/4/2012\\nPower_perf_factor: 91.94380156', metadata={'source': 'Car_sales.csv', 'row': 75}),\n",
       " Document(page_content='Manufacturer: Lincoln\\nModel: Continental\\nSales_in_thousands: 13.798\\n__year_resale_value: 20.525\\nVehicle_type: Passenger\\nPrice_in_thousands: 39.08\\nEngine_size: 4.6\\nHorsepower: 275\\nWheelbase: 109\\nWidth: 73.6\\nLength: 208.5\\nCurb_weight: 3.868\\nFuel_capacity: 20\\nFuel_efficiency: 22\\nLatest_Launch: 8/3/2012\\nPower_perf_factor: 113.5402069', metadata={'source': 'Car_sales.csv', 'row': 76}),\n",
       " Document(page_content='Manufacturer: Lincoln\\nModel: Town car\\nSales_in_thousands: 48.911\\n__year_resale_value: 21.725\\nVehicle_type: Passenger\\nPrice_in_thousands: 43.33\\nEngine_size: 4.6\\nHorsepower: 215\\nWheelbase: 117.7\\nWidth: 78.2\\nLength: 215.3\\nCurb_weight: 4.121\\nFuel_capacity: 19\\nFuel_efficiency: 21\\nLatest_Launch: 6/4/2012\\nPower_perf_factor: 93.9579169', metadata={'source': 'Car_sales.csv', 'row': 77}),\n",
       " Document(page_content='Manufacturer: Lincoln\\nModel: Navigator\\nSales_in_thousands: 22.925\\n__year_resale_value: \\nVehicle_type: Car\\nPrice_in_thousands: 42.66\\nEngine_size: 5.4\\nHorsepower: 300\\nWheelbase: 119\\nWidth: 79.9\\nLength: 204.8\\nCurb_weight: 5.393\\nFuel_capacity: 30\\nFuel_efficiency: 15\\nLatest_Launch: 12/23/2012\\nPower_perf_factor: 123.9720467', metadata={'source': 'Car_sales.csv', 'row': 78}),\n",
       " Document(page_content='Manufacturer: Mitsubishi\\nModel: Mirage\\nSales_in_thousands: 26.232\\n__year_resale_value: 8.325\\nVehicle_type: Passenger\\nPrice_in_thousands: 13.987\\nEngine_size: 1.8\\nHorsepower: 113\\nWheelbase: 98.4\\nWidth: 66.5\\nLength: 173.6\\nCurb_weight: 2.25\\nFuel_capacity: 13.2\\nFuel_efficiency: 30\\nLatest_Launch: 4/23/2012\\nPower_perf_factor: 45.83218056', metadata={'source': 'Car_sales.csv', 'row': 79}),\n",
       " Document(page_content='Manufacturer: Mitsubishi\\nModel: Eclipse\\nSales_in_thousands: 42.541\\n__year_resale_value: 10.395\\nVehicle_type: Passenger\\nPrice_in_thousands: 19.047\\nEngine_size: 2.4\\nHorsepower: 154\\nWheelbase: 100.8\\nWidth: 68.9\\nLength: 175.4\\nCurb_weight: 2.91\\nFuel_capacity: 15.9\\nFuel_efficiency: 24\\nLatest_Launch: 11/24/2012\\nPower_perf_factor: 62.44196235', metadata={'source': 'Car_sales.csv', 'row': 80}),\n",
       " Document(page_content='Manufacturer: Mitsubishi\\nModel: Galant\\nSales_in_thousands: 55.616\\n__year_resale_value: 10.595\\nVehicle_type: Passenger\\nPrice_in_thousands: 17.357\\nEngine_size: 2.4\\nHorsepower: 145\\nWheelbase: 103.7\\nWidth: 68.5\\nLength: 187.8\\nCurb_weight: 2.945\\nFuel_capacity: 16.3\\nFuel_efficiency: 25\\nLatest_Launch: 1/29/2012\\nPower_perf_factor: 58.60677292', metadata={'source': 'Car_sales.csv', 'row': 81}),\n",
       " Document(page_content='Manufacturer: Mitsubishi\\nModel: Diamante\\nSales_in_thousands: 5.711\\n__year_resale_value: 16.575\\nVehicle_type: Passenger\\nPrice_in_thousands: 24.997\\nEngine_size: 3.5\\nHorsepower: 210\\nWheelbase: 107.1\\nWidth: 70.3\\nLength: 194.1\\nCurb_weight: 3.443\\nFuel_capacity: 19\\nFuel_efficiency: 22\\nLatest_Launch: 8/28/2012\\nPower_perf_factor: 84.83077858', metadata={'source': 'Car_sales.csv', 'row': 82}),\n",
       " Document(page_content='Manufacturer: Mitsubishi\\nModel: 3000GT\\nSales_in_thousands: 0.11\\n__year_resale_value: 20.94\\nVehicle_type: Passenger\\nPrice_in_thousands: 25.45\\nEngine_size: 3\\nHorsepower: 161\\nWheelbase: 97.2\\nWidth: 72.4\\nLength: 180.3\\nCurb_weight: 3.131\\nFuel_capacity: 19.8\\nFuel_efficiency: 21\\nLatest_Launch: 6/29/2012\\nPower_perf_factor: 67.54415494', metadata={'source': 'Car_sales.csv', 'row': 83}),\n",
       " Document(page_content='Manufacturer: Mitsubishi\\nModel: Montero\\nSales_in_thousands: 11.337\\n__year_resale_value: 19.125\\nVehicle_type: Car\\nPrice_in_thousands: 31.807\\nEngine_size: 3.5\\nHorsepower: 200\\nWheelbase: 107.3\\nWidth: 69.9\\nLength: 186.6\\nCurb_weight: 4.52\\nFuel_capacity: 24.3\\nFuel_efficiency: 18\\nLatest_Launch: 1/17/2012\\nPower_perf_factor: 83.92081504', metadata={'source': 'Car_sales.csv', 'row': 84}),\n",
       " Document(page_content='Manufacturer: Mitsubishi\\nModel: Montero Sport\\nSales_in_thousands: 39.348\\n__year_resale_value: 13.88\\nVehicle_type: Car\\nPrice_in_thousands: 22.527\\nEngine_size: 3\\nHorsepower: 173\\nWheelbase: 107.3\\nWidth: 66.7\\nLength: 178.3\\nCurb_weight: 3.51\\nFuel_capacity: 19.5\\nFuel_efficiency: 20\\nLatest_Launch: 5/18/2012\\nPower_perf_factor: 70.66094179', metadata={'source': 'Car_sales.csv', 'row': 85}),\n",
       " Document(page_content='Manufacturer: Mercury\\nModel: Mystique\\nSales_in_thousands: 14.351\\n__year_resale_value: 8.8\\nVehicle_type: Passenger\\nPrice_in_thousands: 16.24\\nEngine_size: 2\\nHorsepower: 125\\nWheelbase: 106.5\\nWidth: 69.1\\nLength: 184.8\\nCurb_weight: 2.769\\nFuel_capacity: 15\\nFuel_efficiency: 28\\nLatest_Launch: 12/19/2012\\nPower_perf_factor: 50.99774761', metadata={'source': 'Car_sales.csv', 'row': 86}),\n",
       " Document(page_content='Manufacturer: Mercury\\nModel: Cougar\\nSales_in_thousands: 26.529\\n__year_resale_value: 13.89\\nVehicle_type: Passenger\\nPrice_in_thousands: 16.54\\nEngine_size: 2\\nHorsepower: 125\\nWheelbase: 106.4\\nWidth: 69.6\\nLength: 185\\nCurb_weight: 2.892\\nFuel_capacity: 16\\nFuel_efficiency: 30\\nLatest_Launch: 2/23/2012\\nPower_perf_factor: 51.11347426', metadata={'source': 'Car_sales.csv', 'row': 87}),\n",
       " Document(page_content='Manufacturer: Mercury\\nModel: Sable\\nSales_in_thousands: 67.956\\n__year_resale_value: 11.03\\nVehicle_type: Passenger\\nPrice_in_thousands: 19.035\\nEngine_size: 3\\nHorsepower: 153\\nWheelbase: 108.5\\nWidth: 73\\nLength: 199.7\\nCurb_weight: 3.379\\nFuel_capacity: 16\\nFuel_efficiency: 24\\nLatest_Launch: 9/22/2012\\nPower_perf_factor: 62.23996663', metadata={'source': 'Car_sales.csv', 'row': 88}),\n",
       " Document(page_content='Manufacturer: Mercury\\nModel: Grand Marquis\\nSales_in_thousands: 81.174\\n__year_resale_value: 14.875\\nVehicle_type: Passenger\\nPrice_in_thousands: 22.605\\nEngine_size: 4.6\\nHorsepower: 200\\nWheelbase: 114.7\\nWidth: 78.2\\nLength: 212\\nCurb_weight: 3.958\\nFuel_capacity: 19\\nFuel_efficiency: 21\\nLatest_Launch: 7/24/2012\\nPower_perf_factor: 80.65769646', metadata={'source': 'Car_sales.csv', 'row': 89}),\n",
       " Document(page_content='Manufacturer: Mercury\\nModel: Mountaineer\\nSales_in_thousands: 27.609\\n__year_resale_value: 20.43\\nVehicle_type: Car\\nPrice_in_thousands: 27.56\\nEngine_size: 4\\nHorsepower: 210\\nWheelbase: 111.6\\nWidth: 70.2\\nLength: 190.1\\nCurb_weight: 3.876\\nFuel_capacity: 21\\nFuel_efficiency: 18\\nLatest_Launch: 2/13/2008\\nPower_perf_factor: 85.94974425', metadata={'source': 'Car_sales.csv', 'row': 90}),\n",
       " Document(page_content='Manufacturer: Mercury\\nModel: Villager\\nSales_in_thousands: 20.38\\n__year_resale_value: 14.795\\nVehicle_type: Car\\nPrice_in_thousands: 22.51\\nEngine_size: 3.3\\nHorsepower: 170\\nWheelbase: 112.2\\nWidth: 74.9\\nLength: 194.7\\nCurb_weight: 3.944\\nFuel_capacity: 20\\nFuel_efficiency: 21\\nLatest_Launch: 10/20/2009\\nPower_perf_factor: 69.671461', metadata={'source': 'Car_sales.csv', 'row': 91}),\n",
       " Document(page_content='Manufacturer: Mercedes-B\\nModel: C-Class\\nSales_in_thousands: 18.392\\n__year_resale_value: 26.05\\nVehicle_type: Passenger\\nPrice_in_thousands: 31.75\\nEngine_size: 2.3\\nHorsepower: 185\\nWheelbase: 105.9\\nWidth: 67.7\\nLength: 177.4\\nCurb_weight: 3.25\\nFuel_capacity: 16.4\\nFuel_efficiency: 26\\nLatest_Launch: 4/24/2011\\nPower_perf_factor: 78.28073088', metadata={'source': 'Car_sales.csv', 'row': 92}),\n",
       " Document(page_content='Manufacturer: Mercedes-B\\nModel: E-Class\\nSales_in_thousands: 27.602\\n__year_resale_value: 41.45\\nVehicle_type: Passenger\\nPrice_in_thousands: 49.9\\nEngine_size: 3.2\\nHorsepower: 221\\nWheelbase: 111.5\\nWidth: 70.8\\nLength: 189.4\\nCurb_weight: 3.823\\nFuel_capacity: 21.1\\nFuel_efficiency: 25\\nLatest_Launch: 7/12/2011\\nPower_perf_factor: 98.2497375', metadata={'source': 'Car_sales.csv', 'row': 93}),\n",
       " Document(page_content='Manufacturer: Mercedes-B\\nModel: S-Class\\nSales_in_thousands: 16.774\\n__year_resale_value: 50.375\\nVehicle_type: Passenger\\nPrice_in_thousands: 69.7\\nEngine_size: 4.3\\nHorsepower: 275\\nWheelbase: 121.5\\nWidth: 73.1\\nLength: 203.1\\nCurb_weight: 4.133\\nFuel_capacity: 23.2\\nFuel_efficiency: 21\\nLatest_Launch: 6/13/2011\\nPower_perf_factor: 125.2738757', metadata={'source': 'Car_sales.csv', 'row': 94}),\n",
       " Document(page_content='Manufacturer: Mercedes-B\\nModel: SL-Class\\nSales_in_thousands: 3.311\\n__year_resale_value: 58.6\\nVehicle_type: Passenger\\nPrice_in_thousands: 82.6\\nEngine_size: 5\\nHorsepower: 302\\nWheelbase: 99\\nWidth: 71.3\\nLength: 177.1\\nCurb_weight: 4.125\\nFuel_capacity: 21.1\\nFuel_efficiency: 20\\nLatest_Launch: 3/17/2011\\nPower_perf_factor: 139.9822936', metadata={'source': 'Car_sales.csv', 'row': 95}),\n",
       " Document(page_content='Manufacturer: Mercedes-B\\nModel: SLK\\nSales_in_thousands: 7.998\\n__year_resale_value: \\nVehicle_type: Passenger\\nPrice_in_thousands: 38.9\\nEngine_size: 2.3\\nHorsepower: 190\\nWheelbase: 94.5\\nWidth: 67.5\\nLength: 157.9\\nCurb_weight: 3.055\\nFuel_capacity: 15.9\\nFuel_efficiency: 26\\nLatest_Launch: 1/16/2011\\nPower_perf_factor: 82.80736193', metadata={'source': 'Car_sales.csv', 'row': 96}),\n",
       " Document(page_content='Manufacturer: Mercedes-B\\nModel: SLK230\\nSales_in_thousands: 1.526\\n__year_resale_value: \\nVehicle_type: Passenger\\nPrice_in_thousands: 41\\nEngine_size: 2.3\\nHorsepower: 185\\nWheelbase: 94.5\\nWidth: 67.5\\nLength: 157.3\\nCurb_weight: 2.975\\nFuel_capacity: 14\\nFuel_efficiency: 27\\nLatest_Launch: 8/6/2011\\nPower_perf_factor: 81.84896924', metadata={'source': 'Car_sales.csv', 'row': 97}),\n",
       " Document(page_content='Manufacturer: Mercedes-B\\nModel: CLK Coupe\\nSales_in_thousands: 11.592\\n__year_resale_value: \\nVehicle_type: Passenger\\nPrice_in_thousands: 41.6\\nEngine_size: 3.2\\nHorsepower: 215\\nWheelbase: 105.9\\nWidth: 67.8\\nLength: 180.3\\nCurb_weight: 3.213\\nFuel_capacity: 16.4\\nFuel_efficiency: 26\\nLatest_Launch: 7/8/2011\\nPower_perf_factor: 92.92579177', metadata={'source': 'Car_sales.csv', 'row': 98}),\n",
       " Document(page_content='Manufacturer: Mercedes-B\\nModel: CL500\\nSales_in_thousands: 0.954\\n__year_resale_value: \\nVehicle_type: Passenger\\nPrice_in_thousands: 85.5\\nEngine_size: 5\\nHorsepower: 302\\nWheelbase: 113.6\\nWidth: 73.1\\nLength: 196.6\\nCurb_weight: 4.115\\nFuel_capacity: 23.2\\nFuel_efficiency: 20\\nLatest_Launch: 4/11/2011\\nPower_perf_factor: 141.1009845', metadata={'source': 'Car_sales.csv', 'row': 99}),\n",
       " Document(page_content='Manufacturer: Mercedes-B\\nModel: M-Class\\nSales_in_thousands: 28.976\\n__year_resale_value: \\nVehicle_type: Car\\nPrice_in_thousands: 35.3\\nEngine_size: 3.2\\nHorsepower: 215\\nWheelbase: 111\\nWidth: 72.2\\nLength: 180.6\\nCurb_weight: 4.387\\nFuel_capacity: 19\\nFuel_efficiency: 20\\nLatest_Launch: 2/10/2011\\nPower_perf_factor: 90.49553213', metadata={'source': 'Car_sales.csv', 'row': 100}),\n",
       " Document(page_content='Manufacturer: Nissan\\nModel: Sentra\\nSales_in_thousands: 42.643\\n__year_resale_value: 8.45\\nVehicle_type: Passenger\\nPrice_in_thousands: 13.499\\nEngine_size: 1.8\\nHorsepower: 126\\nWheelbase: 99.8\\nWidth: 67.3\\nLength: 177.5\\nCurb_weight: 2.593\\nFuel_capacity: 13.2\\nFuel_efficiency: 30\\nLatest_Launch: 8/31/2011\\nPower_perf_factor: 50.24197791', metadata={'source': 'Car_sales.csv', 'row': 101}),\n",
       " Document(page_content='Manufacturer: Nissan\\nModel: Altima\\nSales_in_thousands: 88.094\\n__year_resale_value: 11.295\\nVehicle_type: Passenger\\nPrice_in_thousands: 20.39\\nEngine_size: 2.4\\nHorsepower: 155\\nWheelbase: 103.1\\nWidth: 69.1\\nLength: 183.5\\nCurb_weight: 3.012\\nFuel_capacity: 15.9\\nFuel_efficiency: 25\\nLatest_Launch: 8/2/2011\\nPower_perf_factor: 63.31372783', metadata={'source': 'Car_sales.csv', 'row': 102}),\n",
       " Document(page_content='Manufacturer: Nissan\\nModel: Maxima\\nSales_in_thousands: 79.853\\n__year_resale_value: 15.125\\nVehicle_type: Passenger\\nPrice_in_thousands: 26.249\\nEngine_size: 3\\nHorsepower: 222\\nWheelbase: 108.3\\nWidth: 70.3\\nLength: 190.5\\nCurb_weight: 3.294\\nFuel_capacity: 18.5\\nFuel_efficiency: 25\\nLatest_Launch: 5/6/2011\\nPower_perf_factor: 89.42782031', metadata={'source': 'Car_sales.csv', 'row': 103}),\n",
       " Document(page_content='Manufacturer: Nissan\\nModel: Quest\\nSales_in_thousands: 27.308\\n__year_resale_value: 15.38\\nVehicle_type: Car\\nPrice_in_thousands: 26.399\\nEngine_size: 3.3\\nHorsepower: 170\\nWheelbase: 112.2\\nWidth: 74.9\\nLength: 194.8\\nCurb_weight: 3.991\\nFuel_capacity: 20\\nFuel_efficiency: 21\\nLatest_Launch: 3/7/2011\\nPower_perf_factor: 71.17166413', metadata={'source': 'Car_sales.csv', 'row': 104}),\n",
       " Document(page_content='Manufacturer: Nissan\\nModel: Pathfinder\\nSales_in_thousands: 42.574\\n__year_resale_value: 17.81\\nVehicle_type: Car\\nPrice_in_thousands: 29.299\\nEngine_size: 3.3\\nHorsepower: 170\\nWheelbase: 106.3\\nWidth: 71.7\\nLength: 182.6\\nCurb_weight: 3.947\\nFuel_capacity: 21\\nFuel_efficiency: 19\\nLatest_Launch: 9/25/2011\\nPower_perf_factor: 72.29035508', metadata={'source': 'Car_sales.csv', 'row': 105}),\n",
       " Document(page_content='Manufacturer: Nissan\\nModel: Xterra\\nSales_in_thousands: 54.158\\n__year_resale_value: \\nVehicle_type: Car\\nPrice_in_thousands: 22.799\\nEngine_size: 3.3\\nHorsepower: 170\\nWheelbase: 104.3\\nWidth: 70.4\\nLength: 178\\nCurb_weight: 3.821\\nFuel_capacity: 19.4\\nFuel_efficiency: 18\\nLatest_Launch: 1/24/2011\\nPower_perf_factor: 69.78294434', metadata={'source': 'Car_sales.csv', 'row': 106}),\n",
       " Document(page_content='Manufacturer: Nissan\\nModel: Frontier\\nSales_in_thousands: 65.005\\n__year_resale_value: \\nVehicle_type: Car\\nPrice_in_thousands: 17.89\\nEngine_size: 3.3\\nHorsepower: 170\\nWheelbase: 116.1\\nWidth: 66.5\\nLength: 196.1\\nCurb_weight: 3.217\\nFuel_capacity: 19.4\\nFuel_efficiency: 18\\nLatest_Launch: 8/27/2011\\nPower_perf_factor: 67.88927059', metadata={'source': 'Car_sales.csv', 'row': 107}),\n",
       " Document(page_content='Manufacturer: Oldsmobile\\nModel: Cutlass\\nSales_in_thousands: 1.112\\n__year_resale_value: 11.24\\nVehicle_type: Passenger\\nPrice_in_thousands: 18.145\\nEngine_size: 3.1\\nHorsepower: 150\\nWheelbase: 107\\nWidth: 69.4\\nLength: 192\\nCurb_weight: 3.102\\nFuel_capacity: 15.2\\nFuel_efficiency: 25\\nLatest_Launch: 5/31/2011\\nPower_perf_factor: 60.86161155', metadata={'source': 'Car_sales.csv', 'row': 108}),\n",
       " Document(page_content='Manufacturer: Oldsmobile\\nModel: Intrigue\\nSales_in_thousands: 38.554\\n__year_resale_value: \\nVehicle_type: Passenger\\nPrice_in_thousands: 24.15\\nEngine_size: 3.5\\nHorsepower: 215\\nWheelbase: 109\\nWidth: 73.6\\nLength: 195.9\\nCurb_weight: 3.455\\nFuel_capacity: 18\\nFuel_efficiency: \\nLatest_Launch: 4/1/2011\\nPower_perf_factor: 86.27252291', metadata={'source': 'Car_sales.csv', 'row': 109}),\n",
       " Document(page_content='Manufacturer: Oldsmobile\\nModel: Alero\\nSales_in_thousands: 80.255\\n__year_resale_value: \\nVehicle_type: Passenger\\nPrice_in_thousands: 18.27\\nEngine_size: 2.4\\nHorsepower: 150\\nWheelbase: 107\\nWidth: 70.1\\nLength: 186.7\\nCurb_weight: 2.958\\nFuel_capacity: 15\\nFuel_efficiency: 27\\nLatest_Launch: 10/20/2009\\nPower_perf_factor: 60.72744693', metadata={'source': 'Car_sales.csv', 'row': 110}),\n",
       " Document(page_content='Manufacturer: Oldsmobile\\nModel: Aurora\\nSales_in_thousands: 14.69\\n__year_resale_value: 19.89\\nVehicle_type: Passenger\\nPrice_in_thousands: 36.229\\nEngine_size: 4\\nHorsepower: 250\\nWheelbase: 113.8\\nWidth: 74.4\\nLength: 205.4\\nCurb_weight: 3.967\\nFuel_capacity: 18.5\\nFuel_efficiency: 22\\nLatest_Launch: 2/18/2011\\nPower_perf_factor: 103.4416926', metadata={'source': 'Car_sales.csv', 'row': 111}),\n",
       " Document(page_content='Manufacturer: Oldsmobile\\nModel: Bravada\\nSales_in_thousands: 20.017\\n__year_resale_value: 19.925\\nVehicle_type: Car\\nPrice_in_thousands: 31.598\\nEngine_size: 4.3\\nHorsepower: 190\\nWheelbase: 107\\nWidth: 67.8\\nLength: 181.2\\nCurb_weight: 4.068\\nFuel_capacity: 17.5\\nFuel_efficiency: 19\\nLatest_Launch: 9/21/2011\\nPower_perf_factor: 80.51167259', metadata={'source': 'Car_sales.csv', 'row': 112}),\n",
       " Document(page_content='Manufacturer: Oldsmobile\\nModel: Silhouette\\nSales_in_thousands: 24.361\\n__year_resale_value: 15.24\\nVehicle_type: Car\\nPrice_in_thousands: 25.345\\nEngine_size: 3.4\\nHorsepower: 185\\nWheelbase: 120\\nWidth: 72.2\\nLength: 201.4\\nCurb_weight: 3.948\\nFuel_capacity: 25\\nFuel_efficiency: 22\\nLatest_Launch: 6/25/2011\\nPower_perf_factor: 76.09657042', metadata={'source': 'Car_sales.csv', 'row': 113}),\n",
       " Document(page_content='Manufacturer: Plymouth\\nModel: Neon\\nSales_in_thousands: 32.734\\n__year_resale_value: 7.75\\nVehicle_type: Passenger\\nPrice_in_thousands: 12.64\\nEngine_size: 2\\nHorsepower: 132\\nWheelbase: 105\\nWidth: 74.4\\nLength: 174.4\\nCurb_weight: 2.559\\nFuel_capacity: 12.5\\nFuel_efficiency: 29\\nLatest_Launch: 4/26/2011\\nPower_perf_factor: 52.08489875', metadata={'source': 'Car_sales.csv', 'row': 114}),\n",
       " Document(page_content='Manufacturer: Plymouth\\nModel: Breeze\\nSales_in_thousands: 5.24\\n__year_resale_value: 9.8\\nVehicle_type: Passenger\\nPrice_in_thousands: 16.08\\nEngine_size: 2\\nHorsepower: 132\\nWheelbase: 108\\nWidth: 71\\nLength: 186.3\\nCurb_weight: 2.942\\nFuel_capacity: 16\\nFuel_efficiency: 27\\nLatest_Launch: 11/14/2011\\nPower_perf_factor: 53.41189767', metadata={'source': 'Car_sales.csv', 'row': 115}),\n",
       " Document(page_content='Manufacturer: Plymouth\\nModel: Voyager\\nSales_in_thousands: 24.155\\n__year_resale_value: 12.025\\nVehicle_type: Car\\nPrice_in_thousands: 18.85\\nEngine_size: 2.4\\nHorsepower: 150\\nWheelbase: 113.3\\nWidth: 76.8\\nLength: 186.3\\nCurb_weight: 3.528\\nFuel_capacity: 20\\nFuel_efficiency: 24\\nLatest_Launch: 4/24/2011\\nPower_perf_factor: 60.95118512', metadata={'source': 'Car_sales.csv', 'row': 116}),\n",
       " Document(page_content='Manufacturer: Plymouth\\nModel: Prowler\\nSales_in_thousands: 1.872\\n__year_resale_value: \\nVehicle_type: Passenger\\nPrice_in_thousands: 43\\nEngine_size: 3.5\\nHorsepower: 253\\nWheelbase: 113.3\\nWidth: 76.3\\nLength: 165.4\\nCurb_weight: 2.85\\nFuel_capacity: 12\\nFuel_efficiency: 21\\nLatest_Launch: 6/27/2012\\nPower_perf_factor: 106.9844563', metadata={'source': 'Car_sales.csv', 'row': 117}),\n",
       " Document(page_content='Manufacturer: Pontiac\\nModel: Sunfire\\nSales_in_thousands: 51.645\\n__year_resale_value: 13.79\\nVehicle_type: Passenger\\nPrice_in_thousands: 21.61\\nEngine_size: 2.4\\nHorsepower: 150\\nWheelbase: 104.1\\nWidth: 68.4\\nLength: 181.9\\nCurb_weight: 2.906\\nFuel_capacity: 15\\nFuel_efficiency: 27\\nLatest_Launch: 1/25/2012\\nPower_perf_factor: 62.0158703', metadata={'source': 'Car_sales.csv', 'row': 118}),\n",
       " Document(page_content='Manufacturer: Pontiac\\nModel: Grand Am\\nSales_in_thousands: 131.097\\n__year_resale_value: 10.29\\nVehicle_type: Passenger\\nPrice_in_thousands: 19.72\\nEngine_size: 3.4\\nHorsepower: 175\\nWheelbase: 107\\nWidth: 70.4\\nLength: 186.3\\nCurb_weight: 3.091\\nFuel_capacity: 15.2\\nFuel_efficiency: 25\\nLatest_Launch: 11/26/2012\\nPower_perf_factor: 70.38973726', metadata={'source': 'Car_sales.csv', 'row': 119}),\n",
       " Document(page_content='Manufacturer: Pontiac\\nModel: Firebird\\nSales_in_thousands: 19.911\\n__year_resale_value: 17.805\\nVehicle_type: Passenger\\nPrice_in_thousands: 25.31\\nEngine_size: 3.8\\nHorsepower: 200\\nWheelbase: 101.1\\nWidth: 74.5\\nLength: 193.4\\nCurb_weight: 3.492\\nFuel_capacity: 16.8\\nFuel_efficiency: 25\\nLatest_Launch: 6/16/2012\\nPower_perf_factor: 81.49272616', metadata={'source': 'Car_sales.csv', 'row': 120}),\n",
       " Document(page_content='Manufacturer: Pontiac\\nModel: Grand Prix\\nSales_in_thousands: 92.364\\n__year_resale_value: 14.01\\nVehicle_type: Passenger\\nPrice_in_thousands: 21.665\\nEngine_size: 3.8\\nHorsepower: 195\\nWheelbase: 110.5\\nWidth: 72.7\\nLength: 196.5\\nCurb_weight: 3.396\\nFuel_capacity: 18\\nFuel_efficiency: 25\\nLatest_Launch: 10/15/2012\\nPower_perf_factor: 78.31816813', metadata={'source': 'Car_sales.csv', 'row': 121}),\n",
       " Document(page_content='Manufacturer: Pontiac\\nModel: Bonneville\\nSales_in_thousands: 35.945\\n__year_resale_value: 13.225\\nVehicle_type: Passenger\\nPrice_in_thousands: 23.755\\nEngine_size: 3.8\\nHorsepower: 205\\nWheelbase: 112.2\\nWidth: 72.6\\nLength: 202.5\\nCurb_weight: 3.59\\nFuel_capacity: 17.5\\nFuel_efficiency: 24\\nLatest_Launch: 5/18/2011\\nPower_perf_factor: 82.6613556', metadata={'source': 'Car_sales.csv', 'row': 122}),\n",
       " Document(page_content='Manufacturer: Pontiac\\nModel: Montana\\nSales_in_thousands: 39.572\\n__year_resale_value: \\nVehicle_type: Car\\nPrice_in_thousands: 25.635\\nEngine_size: 3.4\\nHorsepower: 185\\nWheelbase: 120\\nWidth: 72.7\\nLength: 201.3\\nCurb_weight: 3.942\\nFuel_capacity: 25\\nFuel_efficiency: 23\\nLatest_Launch: 7/22/2012\\nPower_perf_factor: 76.20843952', metadata={'source': 'Car_sales.csv', 'row': 123}),\n",
       " Document(page_content='Manufacturer: Porsche\\nModel: Boxter\\nSales_in_thousands: 8.982\\n__year_resale_value: 41.25\\nVehicle_type: Passenger\\nPrice_in_thousands: 41.43\\nEngine_size: 2.7\\nHorsepower: 217\\nWheelbase: 95.2\\nWidth: 70.1\\nLength: 171\\nCurb_weight: 2.778\\nFuel_capacity: 17\\nFuel_efficiency: 22\\nLatest_Launch: 2/19/2012\\nPower_perf_factor: 93.4373307', metadata={'source': 'Car_sales.csv', 'row': 124}),\n",
       " Document(page_content='Manufacturer: Porsche\\nModel: Carrera Coupe\\nSales_in_thousands: 1.28\\n__year_resale_value: 60.625\\nVehicle_type: Passenger\\nPrice_in_thousands: 71.02\\nEngine_size: 3.4\\nHorsepower: 300\\nWheelbase: 92.6\\nWidth: 69.5\\nLength: 174.5\\nCurb_weight: 3.032\\nFuel_capacity: 17\\nFuel_efficiency: 21\\nLatest_Launch: 12/21/2012\\nPower_perf_factor: 134.3909754', metadata={'source': 'Car_sales.csv', 'row': 125}),\n",
       " Document(page_content='Manufacturer: Porsche\\nModel: Carrera Cabrio\\nSales_in_thousands: 1.866\\n__year_resale_value: 67.55\\nVehicle_type: Passenger\\nPrice_in_thousands: 74.97\\nEngine_size: 3.4\\nHorsepower: 300\\nWheelbase: 92.6\\nWidth: 69.5\\nLength: 174.5\\nCurb_weight: 3.075\\nFuel_capacity: 17\\nFuel_efficiency: 23\\nLatest_Launch: 7/11/2011\\nPower_perf_factor: 135.9147096', metadata={'source': 'Car_sales.csv', 'row': 126}),\n",
       " Document(page_content='Manufacturer: Saab\\nModel: 5-Sep\\nSales_in_thousands: 9.191\\n__year_resale_value: \\nVehicle_type: Passenger\\nPrice_in_thousands: 33.12\\nEngine_size: 2.3\\nHorsepower: 170\\nWheelbase: 106.4\\nWidth: 70.6\\nLength: 189.2\\nCurb_weight: 3.28\\nFuel_capacity: 18.5\\nFuel_efficiency: 23\\nLatest_Launch: 11/9/2012\\nPower_perf_factor: 73.50377819', metadata={'source': 'Car_sales.csv', 'row': 127}),\n",
       " Document(page_content='Manufacturer: Saab\\nModel: 3-Sep\\nSales_in_thousands: 12.115\\n__year_resale_value: \\nVehicle_type: Passenger\\nPrice_in_thousands: 26.1\\nEngine_size: 2\\nHorsepower: 185\\nWheelbase: 102.6\\nWidth: 67.4\\nLength: 182.2\\nCurb_weight: 2.99\\nFuel_capacity: 16.9\\nFuel_efficiency: 23\\nLatest_Launch: 6/12/2011\\nPower_perf_factor: 76.02304771', metadata={'source': 'Car_sales.csv', 'row': 128}),\n",
       " Document(page_content='Manufacturer: Saturn\\nModel: SL\\nSales_in_thousands: 80.62\\n__year_resale_value: 9.2\\nVehicle_type: Passenger\\nPrice_in_thousands: 10.685\\nEngine_size: 1.9\\nHorsepower: 100\\nWheelbase: 102.4\\nWidth: 66.4\\nLength: 176.9\\nCurb_weight: 2.332\\nFuel_capacity: 12.1\\nFuel_efficiency: 33\\nLatest_Launch: 8/16/2012\\nPower_perf_factor: 39.98642475', metadata={'source': 'Car_sales.csv', 'row': 129}),\n",
       " Document(page_content='Manufacturer: Saturn\\nModel: SC\\nSales_in_thousands: 24.546\\n__year_resale_value: 10.59\\nVehicle_type: Passenger\\nPrice_in_thousands: 12.535\\nEngine_size: 1.9\\nHorsepower: 100\\nWheelbase: 102.4\\nWidth: 66.4\\nLength: 180\\nCurb_weight: 2.367\\nFuel_capacity: 12.1\\nFuel_efficiency: 33\\nLatest_Launch: 3/16/2011\\nPower_perf_factor: 40.70007242', metadata={'source': 'Car_sales.csv', 'row': 130}),\n",
       " Document(page_content='Manufacturer: Saturn\\nModel: SW\\nSales_in_thousands: 5.223\\n__year_resale_value: 10.79\\nVehicle_type: Passenger\\nPrice_in_thousands: 14.29\\nEngine_size: 1.9\\nHorsepower: 124\\nWheelbase: 102.4\\nWidth: 66.4\\nLength: 176.9\\nCurb_weight: 2.452\\nFuel_capacity: 12.1\\nFuel_efficiency: 31\\nLatest_Launch: 1/15/2011\\nPower_perf_factor: 49.86577367', metadata={'source': 'Car_sales.csv', 'row': 131}),\n",
       " Document(page_content='Manufacturer: Saturn\\nModel: LW\\nSales_in_thousands: 8.472\\n__year_resale_value: \\nVehicle_type: Passenger\\nPrice_in_thousands: 18.835\\nEngine_size: 2.2\\nHorsepower: 137\\nWheelbase: 106.5\\nWidth: 69\\nLength: 190.4\\nCurb_weight: 3.075\\nFuel_capacity: 13.1\\nFuel_efficiency: 27\\nLatest_Launch: 8/5/2011\\nPower_perf_factor: 56.29524304', metadata={'source': 'Car_sales.csv', 'row': 132}),\n",
       " Document(page_content='Manufacturer: Saturn\\nModel: LS\\nSales_in_thousands: 49.989\\n__year_resale_value: \\nVehicle_type: Passenger\\nPrice_in_thousands: 15.01\\nEngine_size: 2.2\\nHorsepower: 137\\nWheelbase: 106.5\\nWidth: 69\\nLength: 190.4\\nCurb_weight: 2.91\\nFuel_capacity: 13.1\\nFuel_efficiency: 28\\nLatest_Launch: 12/4/2012\\nPower_perf_factor: 54.81972825', metadata={'source': 'Car_sales.csv', 'row': 133}),\n",
       " Document(page_content='Manufacturer: Subaru\\nModel: Outback\\nSales_in_thousands: 47.107\\n__year_resale_value: \\nVehicle_type: Passenger\\nPrice_in_thousands: 22.695\\nEngine_size: 2.5\\nHorsepower: 165\\nWheelbase: 103.5\\nWidth: 67.5\\nLength: 185.8\\nCurb_weight: 3.415\\nFuel_capacity: 16.9\\nFuel_efficiency: 25\\nLatest_Launch: 7/7/2011\\nPower_perf_factor: 67.7659076', metadata={'source': 'Car_sales.csv', 'row': 134}),\n",
       " Document(page_content='Manufacturer: Subaru\\nModel: Forester\\nSales_in_thousands: 33.028\\n__year_resale_value: \\nVehicle_type: Car\\nPrice_in_thousands: 20.095\\nEngine_size: 2.5\\nHorsepower: 165\\nWheelbase: 99.4\\nWidth: 68.3\\nLength: 175.2\\nCurb_weight: 3.125\\nFuel_capacity: 15.9\\nFuel_efficiency: 24\\nLatest_Launch: 9/10/2012\\nPower_perf_factor: 66.76294331', metadata={'source': 'Car_sales.csv', 'row': 135}),\n",
       " Document(page_content='Manufacturer: Toyota\\nModel: Corolla\\nSales_in_thousands: 142.535\\n__year_resale_value: 10.025\\nVehicle_type: Passenger\\nPrice_in_thousands: 13.108\\nEngine_size: 1.8\\nHorsepower: 120\\nWheelbase: 97\\nWidth: 66.7\\nLength: 174\\nCurb_weight: 2.42\\nFuel_capacity: 13.2\\nFuel_efficiency: 33\\nLatest_Launch: 4/11/2011\\nPower_perf_factor: 47.96897242', metadata={'source': 'Car_sales.csv', 'row': 136}),\n",
       " Document(page_content='Manufacturer: Toyota\\nModel: Camry\\nSales_in_thousands: 247.994\\n__year_resale_value: 13.245\\nVehicle_type: Passenger\\nPrice_in_thousands: 17.518\\nEngine_size: 2.2\\nHorsepower: 133\\nWheelbase: 105.2\\nWidth: 70.1\\nLength: 188.5\\nCurb_weight: 2.998\\nFuel_capacity: 18.5\\nFuel_efficiency: 27\\nLatest_Launch: 2/10/2011\\nPower_perf_factor: 54.37241965', metadata={'source': 'Car_sales.csv', 'row': 137}),\n",
       " Document(page_content='Manufacturer: Toyota\\nModel: Avalon\\nSales_in_thousands: 63.849\\n__year_resale_value: 18.14\\nVehicle_type: Passenger\\nPrice_in_thousands: 25.545\\nEngine_size: 3\\nHorsepower: 210\\nWheelbase: 107.1\\nWidth: 71.7\\nLength: 191.9\\nCurb_weight: 3.417\\nFuel_capacity: 18.5\\nFuel_efficiency: 26\\nLatest_Launch: 8/31/2011\\nPower_perf_factor: 84.91189826', metadata={'source': 'Car_sales.csv', 'row': 138}),\n",
       " Document(page_content='Manufacturer: Toyota\\nModel: Celica\\nSales_in_thousands: 33.269\\n__year_resale_value: 15.445\\nVehicle_type: Passenger\\nPrice_in_thousands: 16.875\\nEngine_size: 1.8\\nHorsepower: 140\\nWheelbase: 102.4\\nWidth: 68.3\\nLength: 170.5\\nCurb_weight: 2.425\\nFuel_capacity: 14.5\\nFuel_efficiency: 31\\nLatest_Launch: 12/29/2012\\nPower_perf_factor: 56.49603034', metadata={'source': 'Car_sales.csv', 'row': 139}),\n",
       " Document(page_content='Manufacturer: Toyota\\nModel: Tacoma\\nSales_in_thousands: 84.087\\n__year_resale_value: 9.575\\nVehicle_type: Car\\nPrice_in_thousands: 11.528\\nEngine_size: 2.4\\nHorsepower: 142\\nWheelbase: 103.3\\nWidth: 66.5\\nLength: 178.7\\nCurb_weight: 2.58\\nFuel_capacity: 15.1\\nFuel_efficiency: 23\\nLatest_Launch: 8/1/2011\\nPower_perf_factor: 55.29711658', metadata={'source': 'Car_sales.csv', 'row': 140}),\n",
       " Document(page_content='Manufacturer: Toyota\\nModel: Sienna\\nSales_in_thousands: 65.119\\n__year_resale_value: \\nVehicle_type: Car\\nPrice_in_thousands: 22.368\\nEngine_size: 3\\nHorsepower: 194\\nWheelbase: 114.2\\nWidth: 73.4\\nLength: 193.5\\nCurb_weight: 3.759\\nFuel_capacity: 20.9\\nFuel_efficiency: 22\\nLatest_Launch: 10/5/2012\\nPower_perf_factor: 78.02721947', metadata={'source': 'Car_sales.csv', 'row': 141}),\n",
       " Document(page_content='Manufacturer: Toyota\\nModel: RAV4\\nSales_in_thousands: 25.106\\n__year_resale_value: 13.325\\nVehicle_type: Car\\nPrice_in_thousands: 16.888\\nEngine_size: 2\\nHorsepower: 127\\nWheelbase: 94.9\\nWidth: 66.7\\nLength: 163.8\\nCurb_weight: 2.668\\nFuel_capacity: 15.3\\nFuel_efficiency: 27\\nLatest_Launch: 5/6/2011\\nPower_perf_factor: 51.95510887', metadata={'source': 'Car_sales.csv', 'row': 142}),\n",
       " Document(page_content='Manufacturer: Toyota\\nModel: 4Runner\\nSales_in_thousands: 68.411\\n__year_resale_value: 19.425\\nVehicle_type: Car\\nPrice_in_thousands: 22.288\\nEngine_size: 2.7\\nHorsepower: 150\\nWheelbase: 105.3\\nWidth: 66.5\\nLength: 183.3\\nCurb_weight: 3.44\\nFuel_capacity: 18.5\\nFuel_efficiency: 23\\nLatest_Launch: 3/7/2011\\nPower_perf_factor: 62.35557713', metadata={'source': 'Car_sales.csv', 'row': 143}),\n",
       " Document(page_content='Manufacturer: Toyota\\nModel: Land Cruiser\\nSales_in_thousands: 9.835\\n__year_resale_value: 34.08\\nVehicle_type: Car\\nPrice_in_thousands: 51.728\\nEngine_size: 4.7\\nHorsepower: 230\\nWheelbase: 112.2\\nWidth: 76.4\\nLength: 192.5\\nCurb_weight: 5.115\\nFuel_capacity: 25.4\\nFuel_efficiency: 15\\nLatest_Launch: 9/25/2011\\nPower_perf_factor: 102.5289842', metadata={'source': 'Car_sales.csv', 'row': 144}),\n",
       " Document(page_content='Manufacturer: Volkswagen\\nModel: Golf\\nSales_in_thousands: 9.761\\n__year_resale_value: 11.425\\nVehicle_type: Passenger\\nPrice_in_thousands: 14.9\\nEngine_size: 2\\nHorsepower: 115\\nWheelbase: 98.9\\nWidth: 68.3\\nLength: 163.3\\nCurb_weight: 2.767\\nFuel_capacity: 14.5\\nFuel_efficiency: 26\\nLatest_Launch: 1/24/2011\\nPower_perf_factor: 46.94387676', metadata={'source': 'Car_sales.csv', 'row': 145}),\n",
       " Document(page_content='Manufacturer: Volkswagen\\nModel: Jetta\\nSales_in_thousands: 83.721\\n__year_resale_value: 13.24\\nVehicle_type: Passenger\\nPrice_in_thousands: 16.7\\nEngine_size: 2\\nHorsepower: 115\\nWheelbase: 98.9\\nWidth: 68.3\\nLength: 172.3\\nCurb_weight: 2.853\\nFuel_capacity: 14.5\\nFuel_efficiency: 26\\nLatest_Launch: 8/27/2011\\nPower_perf_factor: 47.63823666', metadata={'source': 'Car_sales.csv', 'row': 146}),\n",
       " Document(page_content='Manufacturer: Volkswagen\\nModel: Passat\\nSales_in_thousands: 51.102\\n__year_resale_value: 16.725\\nVehicle_type: Passenger\\nPrice_in_thousands: 21.2\\nEngine_size: 1.8\\nHorsepower: 150\\nWheelbase: 106.4\\nWidth: 68.5\\nLength: 184.1\\nCurb_weight: 3.043\\nFuel_capacity: 16.4\\nFuel_efficiency: 27\\nLatest_Launch: 10/30/2012\\nPower_perf_factor: 61.70138136', metadata={'source': 'Car_sales.csv', 'row': 147}),\n",
       " Document(page_content='Manufacturer: Volkswagen\\nModel: Cabrio\\nSales_in_thousands: 9.569\\n__year_resale_value: 16.575\\nVehicle_type: Passenger\\nPrice_in_thousands: 19.99\\nEngine_size: 2\\nHorsepower: 115\\nWheelbase: 97.4\\nWidth: 66.7\\nLength: 160.4\\nCurb_weight: 3.079\\nFuel_capacity: 13.7\\nFuel_efficiency: 26\\nLatest_Launch: 5/31/2011\\nPower_perf_factor: 48.90737225', metadata={'source': 'Car_sales.csv', 'row': 148}),\n",
       " Document(page_content='Manufacturer: Volkswagen\\nModel: GTI\\nSales_in_thousands: 5.596\\n__year_resale_value: 13.76\\nVehicle_type: Passenger\\nPrice_in_thousands: 17.5\\nEngine_size: 2\\nHorsepower: 115\\nWheelbase: 98.9\\nWidth: 68.3\\nLength: 163.3\\nCurb_weight: 2.762\\nFuel_capacity: 14.6\\nFuel_efficiency: 26\\nLatest_Launch: 4/1/2011\\nPower_perf_factor: 47.94684106', metadata={'source': 'Car_sales.csv', 'row': 149}),\n",
       " Document(page_content='Manufacturer: Volkswagen\\nModel: Beetle\\nSales_in_thousands: 49.463\\n__year_resale_value: \\nVehicle_type: Passenger\\nPrice_in_thousands: 15.9\\nEngine_size: 2\\nHorsepower: 115\\nWheelbase: 98.9\\nWidth: 67.9\\nLength: 161.1\\nCurb_weight: 2.769\\nFuel_capacity: 14.5\\nFuel_efficiency: 26\\nLatest_Launch: 10/20/2011\\nPower_perf_factor: 47.32963226', metadata={'source': 'Car_sales.csv', 'row': 150}),\n",
       " Document(page_content='Manufacturer: Volvo\\nModel: S40\\nSales_in_thousands: 16.957\\n__year_resale_value: \\nVehicle_type: Passenger\\nPrice_in_thousands: 23.4\\nEngine_size: 1.9\\nHorsepower: 160\\nWheelbase: 100.5\\nWidth: 67.6\\nLength: 176.6\\nCurb_weight: 2.998\\nFuel_capacity: 15.8\\nFuel_efficiency: 25\\nLatest_Launch: 2/18/2011\\nPower_perf_factor: 66.1130568', metadata={'source': 'Car_sales.csv', 'row': 151}),\n",
       " Document(page_content='Manufacturer: Volvo\\nModel: V40\\nSales_in_thousands: 3.545\\n__year_resale_value: \\nVehicle_type: Passenger\\nPrice_in_thousands: 24.4\\nEngine_size: 1.9\\nHorsepower: 160\\nWheelbase: 100.5\\nWidth: 67.6\\nLength: 176.6\\nCurb_weight: 3.042\\nFuel_capacity: 15.8\\nFuel_efficiency: 25\\nLatest_Launch: 9/21/2011\\nPower_perf_factor: 66.4988123', metadata={'source': 'Car_sales.csv', 'row': 152}),\n",
       " Document(page_content='Manufacturer: Volvo\\nModel: S70\\nSales_in_thousands: 15.245\\n__year_resale_value: \\nVehicle_type: Passenger\\nPrice_in_thousands: 27.5\\nEngine_size: 2.4\\nHorsepower: 168\\nWheelbase: 104.9\\nWidth: 69.3\\nLength: 185.9\\nCurb_weight: 3.208\\nFuel_capacity: 17.9\\nFuel_efficiency: 25\\nLatest_Launch: 11/24/2012\\nPower_perf_factor: 70.65449545', metadata={'source': 'Car_sales.csv', 'row': 153}),\n",
       " Document(page_content='Manufacturer: Volvo\\nModel: V70\\nSales_in_thousands: 17.531\\n__year_resale_value: \\nVehicle_type: Passenger\\nPrice_in_thousands: 28.8\\nEngine_size: 2.4\\nHorsepower: 168\\nWheelbase: 104.9\\nWidth: 69.3\\nLength: 186.2\\nCurb_weight: 3.259\\nFuel_capacity: 17.9\\nFuel_efficiency: 25\\nLatest_Launch: 6/25/2011\\nPower_perf_factor: 71.1559776', metadata={'source': 'Car_sales.csv', 'row': 154}),\n",
       " Document(page_content='Manufacturer: Volvo\\nModel: C70\\nSales_in_thousands: 3.493\\n__year_resale_value: \\nVehicle_type: Passenger\\nPrice_in_thousands: 45.5\\nEngine_size: 2.3\\nHorsepower: 236\\nWheelbase: 104.9\\nWidth: 71.5\\nLength: 185.7\\nCurb_weight: 3.601\\nFuel_capacity: 18.5\\nFuel_efficiency: 23\\nLatest_Launch: 4/26/2011\\nPower_perf_factor: 101.6233572', metadata={'source': 'Car_sales.csv', 'row': 155}),\n",
       " Document(page_content='Manufacturer: Volvo\\nModel: S80\\nSales_in_thousands: 18.969\\n__year_resale_value: \\nVehicle_type: Passenger\\nPrice_in_thousands: 36\\nEngine_size: 2.9\\nHorsepower: 201\\nWheelbase: 109.9\\nWidth: 72.1\\nLength: 189.8\\nCurb_weight: 3.6\\nFuel_capacity: 21.1\\nFuel_efficiency: 24\\nLatest_Launch: 11/14/2011\\nPower_perf_factor: 85.73565451', metadata={'source': 'Car_sales.csv', 'row': 156})]"
      ]
     },
     "execution_count": 25,
     "metadata": {},
     "output_type": "execute_result"
    }
   ],
   "source": [
    "from langchain_community.document_loaders import CSVLoader\n",
    "# IMPORT PDF LOADER IF YOU WANT TO LOAD PDF FILES\n",
    "# IMPORT DOCX LOADER IF YOU WANT TO LOAD DOCX FILES\n",
    "\n",
    "# loader = CSVLoader(\"Car_sales.csv\") ENTER YOUR FILE PATH\n",
    "pages = loader.load_and_split()\n",
    "pages"
   ]
  },
  {
   "cell_type": "code",
   "execution_count": 26,
   "metadata": {},
   "outputs": [
    {
     "name": "stdout",
     "output_type": "stream",
     "text": [
      "\n",
      "Answer the question based on the context below. If you can't\n",
      "answer the question, reply \"I don't know\".\n",
      "Context: Here is some context\n",
      "Question: Here is a question\n",
      "\n"
     ]
    }
   ],
   "source": [
    "from langchain.prompts import PromptTemplate\n",
    "\n",
    "template = \"\"\"\n",
    "Answer the question based on the context below. If you can't\n",
    "answer the question, reply \"I don't know\".\n",
    "Context: {context}\n",
    "Question: {question}\n",
    "\"\"\"\n",
    "\n",
    "prompt = PromptTemplate.from_template(template)\n",
    "print(prompt.format(context=\"Here is some context\", question=\"Here is a question\"))"
   ]
  },
  {
   "cell_type": "code",
   "execution_count": 27,
   "metadata": {},
   "outputs": [],
   "source": [
    "chain = prompt | model | parser \n"
   ]
  },
  {
   "cell_type": "code",
   "execution_count": 28,
   "metadata": {},
   "outputs": [
    {
     "data": {
      "text/plain": [
       "{'title': 'PromptInput',\n",
       " 'type': 'object',\n",
       " 'properties': {'context': {'title': 'Context', 'type': 'string'},\n",
       "  'question': {'title': 'Question', 'type': 'string'}}}"
      ]
     },
     "execution_count": 28,
     "metadata": {},
     "output_type": "execute_result"
    }
   ],
   "source": [
    "chain.input_schema.schema()"
   ]
  },
  {
   "cell_type": "code",
   "execution_count": 29,
   "metadata": {},
   "outputs": [
    {
     "data": {
      "text/plain": [
       "'Your name is Santiago.'"
      ]
     },
     "execution_count": 29,
     "metadata": {},
     "output_type": "execute_result"
    }
   ],
   "source": [
    "chain.invoke({\n",
    "    \"context\": \"The name I was given was Santiago\",\n",
    "    \"question\": \"What's my name?\"\n",
    "})\n"
   ]
  },
  {
   "cell_type": "code",
   "execution_count": 30,
   "metadata": {},
   "outputs": [],
   "source": [
    "from langchain_community.vectorstores import DocArrayInMemorySearch\n",
    "\n",
    "vectorstore = DocArrayInMemorySearch.from_documents(\n",
    "    pages, \n",
    "    embedding=embeddings\n",
    "    )"
   ]
  },
  {
   "cell_type": "code",
   "execution_count": 31,
   "metadata": {},
   "outputs": [
    {
     "data": {
      "text/plain": [
       "[Document(page_content='Manufacturer: Volkswagen\\nModel: Cabrio\\nSales_in_thousands: 9.569\\n__year_resale_value: 16.575\\nVehicle_type: Passenger\\nPrice_in_thousands: 19.99\\nEngine_size: 2\\nHorsepower: 115\\nWheelbase: 97.4\\nWidth: 66.7\\nLength: 160.4\\nCurb_weight: 3.079\\nFuel_capacity: 13.7\\nFuel_efficiency: 26\\nLatest_Launch: 5/31/2011\\nPower_perf_factor: 48.90737225', metadata={'source': 'Car_sales.csv', 'row': 148}),\n",
       " Document(page_content='Manufacturer: Pontiac\\nModel: Firebird\\nSales_in_thousands: 19.911\\n__year_resale_value: 17.805\\nVehicle_type: Passenger\\nPrice_in_thousands: 25.31\\nEngine_size: 3.8\\nHorsepower: 200\\nWheelbase: 101.1\\nWidth: 74.5\\nLength: 193.4\\nCurb_weight: 3.492\\nFuel_capacity: 16.8\\nFuel_efficiency: 25\\nLatest_Launch: 6/16/2012\\nPower_perf_factor: 81.49272616', metadata={'source': 'Car_sales.csv', 'row': 120}),\n",
       " Document(page_content='Manufacturer: Toyota\\nModel: 4Runner\\nSales_in_thousands: 68.411\\n__year_resale_value: 19.425\\nVehicle_type: Car\\nPrice_in_thousands: 22.288\\nEngine_size: 2.7\\nHorsepower: 150\\nWheelbase: 105.3\\nWidth: 66.5\\nLength: 183.3\\nCurb_weight: 3.44\\nFuel_capacity: 18.5\\nFuel_efficiency: 23\\nLatest_Launch: 3/7/2011\\nPower_perf_factor: 62.35557713', metadata={'source': 'Car_sales.csv', 'row': 143}),\n",
       " Document(page_content='Manufacturer: Ford\\nModel: Windstar\\nSales_in_thousands: 155.787\\n__year_resale_value: 13.175\\nVehicle_type: Car\\nPrice_in_thousands: 21.41\\nEngine_size: 3\\nHorsepower: 150\\nWheelbase: 120.7\\nWidth: 76.6\\nLength: 200.9\\nCurb_weight: 3.761\\nFuel_capacity: 26\\nFuel_efficiency: 21\\nLatest_Launch: 2/25/2012\\nPower_perf_factor: 62.09504839', metadata={'source': 'Car_sales.csv', 'row': 53})]"
      ]
     },
     "execution_count": 31,
     "metadata": {},
     "output_type": "execute_result"
    }
   ],
   "source": [
    "retriever = vectorstore.as_retriever()\n",
    "\n",
    "retriever.invoke(\"Machine Learning\")"
   ]
  },
  {
   "cell_type": "code",
   "execution_count": 32,
   "metadata": {},
   "outputs": [
    {
     "data": {
      "text/plain": [
       "\"I don't know. The context appears to be a collection of car sales data, and the question is about machine learning, which is not related to the provided context.\""
      ]
     },
     "execution_count": 32,
     "metadata": {},
     "output_type": "execute_result"
    }
   ],
   "source": [
    "from operator import itemgetter\n",
    "\n",
    "chain = (\n",
    "    {\n",
    "        \"context\": itemgetter(\"question\") | retriever,\n",
    "        \"question\": itemgetter(\"question\")\n",
    "    }\n",
    " | prompt \n",
    " | model\n",
    " | parser\n",
    "\n",
    ")\n",
    "\n",
    "chain.invoke({\"question\": \"What is machine learning?\"})"
   ]
  },
  {
   "cell_type": "code",
   "execution_count": 34,
   "metadata": {},
   "outputs": [
    {
     "name": "stdout",
     "output_type": "stream",
     "text": [
      "Question:, What is the most expensive car?\n",
      "Answer: Based on the context, I can answer your question.\n",
      "\n",
      "The Corvette (Manufacturer: Chevrolet, Model: Corvette) has a Price in thousands of $45.705. The Carrera Coupe (Manufacturer: Porsche, Model: Carrera Coupe) has a Price in thousands of $71.02. Since $71.02 is greater than $45.705, the most expensive car is the Carrera Coupe.\n",
      "\n",
      "So, the answer is: Carrera Coupe.\n",
      "\n",
      "\n",
      "Question:, What is the least expensive car?\n",
      "Answer: Based on the context, I can answer your question.\n",
      "\n",
      "The prices in thousands are:\n",
      "\n",
      "* Lexus LS400: 54.005\n",
      "* Volkswagen Cabrio: 19.99\n",
      "* Chevrolet Corvette: 45.705\n",
      "* Chrysler LHS: 28.34\n",
      "\n",
      "So, the least expensive car is the Volkswagen Cabrio with a price of $19.99 thousand.\n",
      "\n",
      "\n",
      "Question:, What is the most effienct car?what is the best looking car\n",
      "Answer: I don't know.\n",
      "\n",
      "The given documents do not provide information on how to compare cars based on efficiency or aesthetics. The data provided only includes details such as sales figures, resale value, price, engine size, horsepower, and other technical specifications, but it does not include subjective evaluations of the cars' appearance or performance.\n",
      "\n",
      "\n"
     ]
    }
   ],
   "source": [
    "# ENTER YOUR QUESTIONS \n",
    "questions = [\n",
    "   # \"What is the most expensive car?\",\n",
    "  #  \"What is the least expensive car?\",\n",
    "   # \"What is the most effienct car?\"\n",
    "   # \"what is the best looking car?\",\n",
    "]\n",
    "for question in questions:\n",
    "    print(f\"Question:, {question}\")\n",
    "    print(f\"Answer: {chain.invoke({'question': question})}\\n\\n\")"
   ]
  }
 ],
 "metadata": {
  "kernelspec": {
   "display_name": ".venv",
   "language": "python",
   "name": "python3"
  },
  "language_info": {
   "codemirror_mode": {
    "name": "ipython",
    "version": 3
   },
   "file_extension": ".py",
   "mimetype": "text/x-python",
   "name": "python",
   "nbconvert_exporter": "python",
   "pygments_lexer": "ipython3",
   "version": "3.11.7"
  }
 },
 "nbformat": 4,
 "nbformat_minor": 2
}
